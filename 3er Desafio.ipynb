{
 "cells": [
  {
   "cell_type": "markdown",
   "metadata": {},
   "source": [
    "# Construccion de un Clasificador"
   ]
  },
  {
   "cell_type": "markdown",
   "metadata": {},
   "source": [
    "## Presentacion del problema"
   ]
  },
  {
   "cell_type": "markdown",
   "metadata": {},
   "source": [
    "Una de las mayores perdidas de una compañia de seguros estan representadas por las polizas que aun dadas de alta, no pueden cobrar ninguna de sus cuotas en los primeros tres meses de vigencia, motivo por el cual inmediatamente la misma se anula."
   ]
  },
  {
   "cell_type": "markdown",
   "metadata": {},
   "source": [
    "Esto se conoce dentro del rubro como <b>Lapse 90</b>"
   ]
  },
  {
   "cell_type": "markdown",
   "metadata": {},
   "source": [
    "El objetivo de este trabajo, es encontrar un modelo que prediga la probabilidad de que una poliza caiga dentro de esta clasificacion, con el objetivo de poder realizar alguna accion preventiva, evitando que la poliza se anule."
   ]
  },
  {
   "cell_type": "markdown",
   "metadata": {},
   "source": [
    "## Armado del dataset"
   ]
  },
  {
   "cell_type": "markdown",
   "metadata": {},
   "source": [
    "En base a los datos presentes en la compañia, se genero una muestra representativa de una dataset de todas las polizas vigentes, y aquellas que fueron anuladas por Lapse 90.\n",
    "La muestra comprende 300.000 polizas del canal comercial Tarjeta Naranja."
   ]
  },
  {
   "cell_type": "markdown",
   "metadata": {},
   "source": [
    "Se adjunta el codigo SQL utilizado para generar el dataset, y la muestra aleatoria del mismo."
   ]
  },
  {
   "cell_type": "markdown",
   "metadata": {},
   "source": [
    "# Repositorio"
   ]
  },
  {
   "cell_type": "markdown",
   "metadata": {},
   "source": [
    "Todos los archivos necesarios se encuentra en el siguiente repositorio de github:\n",
    "\n",
    "https://github.com/raharari/Desafio-3"
   ]
  },
  {
   "cell_type": "markdown",
   "metadata": {},
   "source": [
    "# EDA"
   ]
  },
  {
   "cell_type": "code",
   "execution_count": 2,
   "metadata": {},
   "outputs": [],
   "source": [
    "# Importamos las librerias basicas de python\n",
    "\n",
    "import numpy as np\n",
    "import pandas as pd\n",
    "import seaborn as sns\n",
    "import matplotlib.pyplot as plt"
   ]
  },
  {
   "cell_type": "code",
   "execution_count": 3,
   "metadata": {},
   "outputs": [],
   "source": [
    "#Guardamos el path del archivo en una variable para despues cargarlo en un df\n",
    "\n",
    "file = 'C:/Users/Ramiro/Desktop/Digital House/Desafios/Desafio 3/Churn Naranja Muestra.csv'\n",
    "\n",
    "#file = 'C:/Users/rharari/Desktop/Data Science/Desafio 3/Churn Naranja Muestra.csv'\n",
    "\n",
    "# Creamos un DataFrame con la info del csv\n",
    "df = pd.read_csv(file, sep='\\t', encoding='ANSI')"
   ]
  },
  {
   "cell_type": "code",
   "execution_count": 4,
   "metadata": {},
   "outputs": [
    {
     "data": {
      "text/html": [
       "<div>\n",
       "<style scoped>\n",
       "    .dataframe tbody tr th:only-of-type {\n",
       "        vertical-align: middle;\n",
       "    }\n",
       "\n",
       "    .dataframe tbody tr th {\n",
       "        vertical-align: top;\n",
       "    }\n",
       "\n",
       "    .dataframe thead th {\n",
       "        text-align: right;\n",
       "    }\n",
       "</style>\n",
       "<table border=\"1\" class=\"dataframe\">\n",
       "  <thead>\n",
       "    <tr style=\"text-align: right;\">\n",
       "      <th></th>\n",
       "      <th>Solicitud_Contrato</th>\n",
       "      <th>npoliza</th>\n",
       "      <th>ncertificado</th>\n",
       "      <th>ncproducto</th>\n",
       "      <th>Producto</th>\n",
       "      <th>Ramo</th>\n",
       "      <th>Estado</th>\n",
       "      <th>Premio</th>\n",
       "      <th>Producto_Masivo</th>\n",
       "      <th>Lapse_90</th>\n",
       "      <th>cdocumento</th>\n",
       "      <th>cdSexo</th>\n",
       "      <th>Edad</th>\n",
       "      <th>cdProvincia</th>\n",
       "      <th>Medio_Venta_H</th>\n",
       "      <th>Punto_Venta_H</th>\n",
       "      <th>Puesto_Venta_H</th>\n",
       "      <th>Rentabilidad</th>\n",
       "      <th>Segmento</th>\n",
       "    </tr>\n",
       "  </thead>\n",
       "  <tbody>\n",
       "    <tr>\n",
       "      <th>0</th>\n",
       "      <td>232-405557-2407376</td>\n",
       "      <td>405557</td>\n",
       "      <td>2407376</td>\n",
       "      <td>232</td>\n",
       "      <td>Acc Pers Tarjetas con Cl Ajus</td>\n",
       "      <td>Accidentes Personales</td>\n",
       "      <td>Vigente</td>\n",
       "      <td>30.81</td>\n",
       "      <td>1</td>\n",
       "      <td>0</td>\n",
       "      <td>30900513</td>\n",
       "      <td>Masculino</td>\n",
       "      <td>34</td>\n",
       "      <td>Cordoba</td>\n",
       "      <td>Sucursales (MV)</td>\n",
       "      <td>FV Socio (PunV)</td>\n",
       "      <td>FV Socio (PueV)</td>\n",
       "      <td>Q3</td>\n",
       "      <td>Tx Con Financ.</td>\n",
       "    </tr>\n",
       "    <tr>\n",
       "      <th>1</th>\n",
       "      <td>301-100618-390797</td>\n",
       "      <td>100618</td>\n",
       "      <td>390797</td>\n",
       "      <td>301</td>\n",
       "      <td>SVC Tarjetas con Cl Ajuste</td>\n",
       "      <td>Vida Colectivo</td>\n",
       "      <td>Vigente</td>\n",
       "      <td>36.03</td>\n",
       "      <td>1</td>\n",
       "      <td>0</td>\n",
       "      <td>33920078</td>\n",
       "      <td>Femenino</td>\n",
       "      <td>30</td>\n",
       "      <td>Rio Negro</td>\n",
       "      <td>Sucursales (MV)</td>\n",
       "      <td>FV Socio (PunV)</td>\n",
       "      <td>FV Socio (PueV)</td>\n",
       "      <td>Q1</td>\n",
       "      <td>Completos</td>\n",
       "    </tr>\n",
       "    <tr>\n",
       "      <th>2</th>\n",
       "      <td>304-100723-73514</td>\n",
       "      <td>100723</td>\n",
       "      <td>73514</td>\n",
       "      <td>304</td>\n",
       "      <td>SVC T.Naranja Todos Venden</td>\n",
       "      <td>Vida Colectivo</td>\n",
       "      <td>Vigente</td>\n",
       "      <td>62.00</td>\n",
       "      <td>0</td>\n",
       "      <td>0</td>\n",
       "      <td>26459882</td>\n",
       "      <td>Femenino</td>\n",
       "      <td>40</td>\n",
       "      <td>Santiago del Estero</td>\n",
       "      <td>Sucursales (MV)</td>\n",
       "      <td>FV Socio (PunV)</td>\n",
       "      <td>Todos Venden (PueV)</td>\n",
       "      <td>Q3</td>\n",
       "      <td>Completos</td>\n",
       "    </tr>\n",
       "    <tr>\n",
       "      <th>3</th>\n",
       "      <td>232-405557-2355690</td>\n",
       "      <td>405557</td>\n",
       "      <td>2355690</td>\n",
       "      <td>232</td>\n",
       "      <td>Acc Pers Tarjetas con Cl Ajus</td>\n",
       "      <td>Accidentes Personales</td>\n",
       "      <td>Vigente</td>\n",
       "      <td>37.19</td>\n",
       "      <td>1</td>\n",
       "      <td>0</td>\n",
       "      <td>17794433</td>\n",
       "      <td>Femenino</td>\n",
       "      <td>52</td>\n",
       "      <td>Santa Fe</td>\n",
       "      <td>Sucursales (MV)</td>\n",
       "      <td>FV Socio (PunV)</td>\n",
       "      <td>FV Socio (PueV)</td>\n",
       "      <td>Q2</td>\n",
       "      <td>Completos</td>\n",
       "    </tr>\n",
       "    <tr>\n",
       "      <th>4</th>\n",
       "      <td>232-405557-1165633</td>\n",
       "      <td>405557</td>\n",
       "      <td>1165633</td>\n",
       "      <td>232</td>\n",
       "      <td>Acc Pers Tarjetas con Cl Ajus</td>\n",
       "      <td>Accidentes Personales</td>\n",
       "      <td>Vigente</td>\n",
       "      <td>36.04</td>\n",
       "      <td>1</td>\n",
       "      <td>0</td>\n",
       "      <td>30851203</td>\n",
       "      <td>Masculino</td>\n",
       "      <td>34</td>\n",
       "      <td>Santa Fe</td>\n",
       "      <td>Sucursales (MV)</td>\n",
       "      <td>FV Socio (PunV)</td>\n",
       "      <td>FV Socio (PueV)</td>\n",
       "      <td>Q4</td>\n",
       "      <td>Mixto Con Financ.Z</td>\n",
       "    </tr>\n",
       "  </tbody>\n",
       "</table>\n",
       "</div>"
      ],
      "text/plain": [
       "   Solicitud_Contrato  npoliza  ncertificado  ncproducto  \\\n",
       "0  232-405557-2407376   405557       2407376         232   \n",
       "1   301-100618-390797   100618        390797         301   \n",
       "2    304-100723-73514   100723         73514         304   \n",
       "3  232-405557-2355690   405557       2355690         232   \n",
       "4  232-405557-1165633   405557       1165633         232   \n",
       "\n",
       "                         Producto                   Ramo   Estado  Premio  \\\n",
       "0  Acc Pers Tarjetas con Cl Ajus   Accidentes Personales  Vigente   30.81   \n",
       "1  SVC Tarjetas con Cl Ajuste             Vida Colectivo  Vigente   36.03   \n",
       "2  SVC T.Naranja Todos Venden             Vida Colectivo  Vigente   62.00   \n",
       "3  Acc Pers Tarjetas con Cl Ajus   Accidentes Personales  Vigente   37.19   \n",
       "4  Acc Pers Tarjetas con Cl Ajus   Accidentes Personales  Vigente   36.04   \n",
       "\n",
       "   Producto_Masivo  Lapse_90  cdocumento     cdSexo  Edad  \\\n",
       "0                1         0    30900513  Masculino    34   \n",
       "1                1         0    33920078   Femenino    30   \n",
       "2                0         0    26459882   Femenino    40   \n",
       "3                1         0    17794433   Femenino    52   \n",
       "4                1         0    30851203  Masculino    34   \n",
       "\n",
       "           cdProvincia    Medio_Venta_H    Punto_Venta_H       Puesto_Venta_H  \\\n",
       "0              Cordoba  Sucursales (MV)  FV Socio (PunV)      FV Socio (PueV)   \n",
       "1            Rio Negro  Sucursales (MV)  FV Socio (PunV)      FV Socio (PueV)   \n",
       "2  Santiago del Estero  Sucursales (MV)  FV Socio (PunV)  Todos Venden (PueV)   \n",
       "3             Santa Fe  Sucursales (MV)  FV Socio (PunV)      FV Socio (PueV)   \n",
       "4             Santa Fe  Sucursales (MV)  FV Socio (PunV)      FV Socio (PueV)   \n",
       "\n",
       "  Rentabilidad            Segmento  \n",
       "0           Q3      Tx Con Financ.  \n",
       "1           Q1           Completos  \n",
       "2           Q3           Completos  \n",
       "3           Q2           Completos  \n",
       "4           Q4  Mixto Con Financ.Z  "
      ]
     },
     "execution_count": 4,
     "metadata": {},
     "output_type": "execute_result"
    }
   ],
   "source": [
    "#Veamos algunos datos del dataset\n",
    "\n",
    "df.head()"
   ]
  },
  {
   "cell_type": "markdown",
   "metadata": {},
   "source": [
    "Podemos observar que el dataset contiene datos relacionados a la poliza en si, y datos referentes al cliente titular de cada poliza.\n",
    "Asimismo, notamos que cada poliza es una observacion dentro del dataframe."
   ]
  },
  {
   "cell_type": "code",
   "execution_count": 5,
   "metadata": {},
   "outputs": [
    {
     "name": "stdout",
     "output_type": "stream",
     "text": [
      "<class 'pandas.core.frame.DataFrame'>\n",
      "RangeIndex: 300000 entries, 0 to 299999\n",
      "Data columns (total 19 columns):\n",
      "Solicitud_Contrato    300000 non-null object\n",
      "npoliza               300000 non-null int64\n",
      "ncertificado          300000 non-null int64\n",
      "ncproducto            300000 non-null int64\n",
      "Producto              300000 non-null object\n",
      "Ramo                  300000 non-null object\n",
      "Estado                300000 non-null object\n",
      "Premio                300000 non-null float64\n",
      "Producto_Masivo       300000 non-null int64\n",
      "Lapse_90              300000 non-null int64\n",
      "cdocumento            300000 non-null int64\n",
      "cdSexo                300000 non-null object\n",
      "Edad                  300000 non-null int64\n",
      "cdProvincia           300000 non-null object\n",
      "Medio_Venta_H         300000 non-null object\n",
      "Punto_Venta_H         300000 non-null object\n",
      "Puesto_Venta_H        300000 non-null object\n",
      "Rentabilidad          300000 non-null object\n",
      "Segmento              300000 non-null object\n",
      "dtypes: float64(1), int64(7), object(11)\n",
      "memory usage: 43.5+ MB\n"
     ]
    }
   ],
   "source": [
    "#Veamos un poco como esta compuesto el dataframe\n",
    "\n",
    "df.info()"
   ]
  },
  {
   "cell_type": "markdown",
   "metadata": {},
   "source": [
    "Podemos observar que el mismo contiene 300.000 observaciones, de las cuales no hay valores nulos."
   ]
  },
  {
   "cell_type": "markdown",
   "metadata": {},
   "source": [
    "Esto nos facilita trabajar con el mismo, ya que evita que tengamos que hacer una limpieza masiva de datos, o manipularlo demasiado previamente."
   ]
  },
  {
   "cell_type": "code",
   "execution_count": 6,
   "metadata": {},
   "outputs": [
    {
     "data": {
      "text/html": [
       "<div>\n",
       "<style scoped>\n",
       "    .dataframe tbody tr th:only-of-type {\n",
       "        vertical-align: middle;\n",
       "    }\n",
       "\n",
       "    .dataframe tbody tr th {\n",
       "        vertical-align: top;\n",
       "    }\n",
       "\n",
       "    .dataframe thead th {\n",
       "        text-align: right;\n",
       "    }\n",
       "</style>\n",
       "<table border=\"1\" class=\"dataframe\">\n",
       "  <thead>\n",
       "    <tr style=\"text-align: right;\">\n",
       "      <th></th>\n",
       "      <th>npoliza</th>\n",
       "      <th>ncertificado</th>\n",
       "      <th>ncproducto</th>\n",
       "      <th>Premio</th>\n",
       "      <th>Producto_Masivo</th>\n",
       "      <th>Lapse_90</th>\n",
       "      <th>cdocumento</th>\n",
       "      <th>Edad</th>\n",
       "    </tr>\n",
       "  </thead>\n",
       "  <tbody>\n",
       "    <tr>\n",
       "      <th>count</th>\n",
       "      <td>3.000000e+05</td>\n",
       "      <td>3.000000e+05</td>\n",
       "      <td>300000.000000</td>\n",
       "      <td>300000.000000</td>\n",
       "      <td>300000.000000</td>\n",
       "      <td>300000.000000</td>\n",
       "      <td>3.000000e+05</td>\n",
       "      <td>300000.000000</td>\n",
       "    </tr>\n",
       "    <tr>\n",
       "      <th>mean</th>\n",
       "      <td>3.900621e+05</td>\n",
       "      <td>7.490415e+05</td>\n",
       "      <td>718.156773</td>\n",
       "      <td>62.643175</td>\n",
       "      <td>0.648740</td>\n",
       "      <td>0.250257</td>\n",
       "      <td>2.366718e+07</td>\n",
       "      <td>48.731377</td>\n",
       "    </tr>\n",
       "    <tr>\n",
       "      <th>std</th>\n",
       "      <td>3.614091e+05</td>\n",
       "      <td>8.300180e+05</td>\n",
       "      <td>951.141196</td>\n",
       "      <td>65.181655</td>\n",
       "      <td>0.477365</td>\n",
       "      <td>0.433162</td>\n",
       "      <td>1.672111e+07</td>\n",
       "      <td>14.608773</td>\n",
       "    </tr>\n",
       "    <tr>\n",
       "      <th>min</th>\n",
       "      <td>1.350000e+02</td>\n",
       "      <td>0.000000e+00</td>\n",
       "      <td>152.000000</td>\n",
       "      <td>-678.100000</td>\n",
       "      <td>0.000000</td>\n",
       "      <td>0.000000</td>\n",
       "      <td>3.934510e+05</td>\n",
       "      <td>1.000000</td>\n",
       "    </tr>\n",
       "    <tr>\n",
       "      <th>25%</th>\n",
       "      <td>1.007230e+05</td>\n",
       "      <td>3.727325e+04</td>\n",
       "      <td>232.000000</td>\n",
       "      <td>36.030000</td>\n",
       "      <td>0.000000</td>\n",
       "      <td>0.000000</td>\n",
       "      <td>1.315505e+07</td>\n",
       "      <td>37.000000</td>\n",
       "    </tr>\n",
       "    <tr>\n",
       "      <th>50%</th>\n",
       "      <td>4.055570e+05</td>\n",
       "      <td>3.667800e+05</td>\n",
       "      <td>245.000000</td>\n",
       "      <td>37.190000</td>\n",
       "      <td>1.000000</td>\n",
       "      <td>0.000000</td>\n",
       "      <td>2.161361e+07</td>\n",
       "      <td>49.000000</td>\n",
       "    </tr>\n",
       "    <tr>\n",
       "      <th>75%</th>\n",
       "      <td>4.055570e+05</td>\n",
       "      <td>1.308853e+06</td>\n",
       "      <td>304.000000</td>\n",
       "      <td>72.897500</td>\n",
       "      <td>1.000000</td>\n",
       "      <td>1.000000</td>\n",
       "      <td>2.985966e+07</td>\n",
       "      <td>60.000000</td>\n",
       "    </tr>\n",
       "    <tr>\n",
       "      <th>max</th>\n",
       "      <td>1.953280e+06</td>\n",
       "      <td>2.742126e+06</td>\n",
       "      <td>5900.000000</td>\n",
       "      <td>2415.000000</td>\n",
       "      <td>1.000000</td>\n",
       "      <td>1.000000</td>\n",
       "      <td>9.571337e+07</td>\n",
       "      <td>118.000000</td>\n",
       "    </tr>\n",
       "  </tbody>\n",
       "</table>\n",
       "</div>"
      ],
      "text/plain": [
       "            npoliza  ncertificado     ncproducto         Premio  \\\n",
       "count  3.000000e+05  3.000000e+05  300000.000000  300000.000000   \n",
       "mean   3.900621e+05  7.490415e+05     718.156773      62.643175   \n",
       "std    3.614091e+05  8.300180e+05     951.141196      65.181655   \n",
       "min    1.350000e+02  0.000000e+00     152.000000    -678.100000   \n",
       "25%    1.007230e+05  3.727325e+04     232.000000      36.030000   \n",
       "50%    4.055570e+05  3.667800e+05     245.000000      37.190000   \n",
       "75%    4.055570e+05  1.308853e+06     304.000000      72.897500   \n",
       "max    1.953280e+06  2.742126e+06    5900.000000    2415.000000   \n",
       "\n",
       "       Producto_Masivo       Lapse_90    cdocumento           Edad  \n",
       "count    300000.000000  300000.000000  3.000000e+05  300000.000000  \n",
       "mean          0.648740       0.250257  2.366718e+07      48.731377  \n",
       "std           0.477365       0.433162  1.672111e+07      14.608773  \n",
       "min           0.000000       0.000000  3.934510e+05       1.000000  \n",
       "25%           0.000000       0.000000  1.315505e+07      37.000000  \n",
       "50%           1.000000       0.000000  2.161361e+07      49.000000  \n",
       "75%           1.000000       1.000000  2.985966e+07      60.000000  \n",
       "max           1.000000       1.000000  9.571337e+07     118.000000  "
      ]
     },
     "execution_count": 6,
     "metadata": {},
     "output_type": "execute_result"
    }
   ],
   "source": [
    "# Veamos algunos estadisticos del DF\n",
    "\n",
    "df.describe()"
   ]
  },
  {
   "cell_type": "markdown",
   "metadata": {},
   "source": [
    "Notamos que hay polizas con premios negativos, seguramente por errores de carga."
   ]
  },
  {
   "cell_type": "code",
   "execution_count": 7,
   "metadata": {},
   "outputs": [
    {
     "data": {
      "text/html": [
       "<div>\n",
       "<style scoped>\n",
       "    .dataframe tbody tr th:only-of-type {\n",
       "        vertical-align: middle;\n",
       "    }\n",
       "\n",
       "    .dataframe tbody tr th {\n",
       "        vertical-align: top;\n",
       "    }\n",
       "\n",
       "    .dataframe thead th {\n",
       "        text-align: right;\n",
       "    }\n",
       "</style>\n",
       "<table border=\"1\" class=\"dataframe\">\n",
       "  <thead>\n",
       "    <tr style=\"text-align: right;\">\n",
       "      <th></th>\n",
       "      <th>Solicitud_Contrato</th>\n",
       "      <th>npoliza</th>\n",
       "      <th>ncertificado</th>\n",
       "      <th>ncproducto</th>\n",
       "      <th>Producto</th>\n",
       "      <th>Ramo</th>\n",
       "      <th>Estado</th>\n",
       "      <th>Premio</th>\n",
       "      <th>Producto_Masivo</th>\n",
       "      <th>Lapse_90</th>\n",
       "      <th>cdocumento</th>\n",
       "      <th>cdSexo</th>\n",
       "      <th>Edad</th>\n",
       "      <th>cdProvincia</th>\n",
       "      <th>Medio_Venta_H</th>\n",
       "      <th>Punto_Venta_H</th>\n",
       "      <th>Puesto_Venta_H</th>\n",
       "      <th>Rentabilidad</th>\n",
       "      <th>Segmento</th>\n",
       "    </tr>\n",
       "  </thead>\n",
       "  <tbody>\n",
       "    <tr>\n",
       "      <th>30877</th>\n",
       "      <td>232-405557-2535161</td>\n",
       "      <td>405557</td>\n",
       "      <td>2535161</td>\n",
       "      <td>232</td>\n",
       "      <td>Acc Pers Tarjetas con Cl Ajus</td>\n",
       "      <td>Accidentes Personales</td>\n",
       "      <td>Anulada</td>\n",
       "      <td>-30.81</td>\n",
       "      <td>1</td>\n",
       "      <td>1</td>\n",
       "      <td>14459770</td>\n",
       "      <td>Masculino</td>\n",
       "      <td>57</td>\n",
       "      <td>Corrientes</td>\n",
       "      <td>Sucursales (MV)</td>\n",
       "      <td>FV Socio (PunV)</td>\n",
       "      <td>FV Socio (PueV)</td>\n",
       "      <td>Q5</td>\n",
       "      <td>Tx Con Financ.</td>\n",
       "    </tr>\n",
       "    <tr>\n",
       "      <th>33049</th>\n",
       "      <td>304-100723-226275</td>\n",
       "      <td>100723</td>\n",
       "      <td>226275</td>\n",
       "      <td>304</td>\n",
       "      <td>SVC T.Naranja Todos Venden</td>\n",
       "      <td>Vida Colectivo</td>\n",
       "      <td>Anulada</td>\n",
       "      <td>-62.00</td>\n",
       "      <td>0</td>\n",
       "      <td>1</td>\n",
       "      <td>26551328</td>\n",
       "      <td>Masculino</td>\n",
       "      <td>40</td>\n",
       "      <td>Rio Negro</td>\n",
       "      <td>Sucursales (MV)</td>\n",
       "      <td>FV Socio (PunV)</td>\n",
       "      <td>Todos Venden (PueV)</td>\n",
       "      <td>Q4</td>\n",
       "      <td>Mixto Con Financ.Z</td>\n",
       "    </tr>\n",
       "    <tr>\n",
       "      <th>58591</th>\n",
       "      <td>232-405557-2418095</td>\n",
       "      <td>405557</td>\n",
       "      <td>2418095</td>\n",
       "      <td>232</td>\n",
       "      <td>Acc Pers Tarjetas con Cl Ajus</td>\n",
       "      <td>Accidentes Personales</td>\n",
       "      <td>Anulada</td>\n",
       "      <td>-30.81</td>\n",
       "      <td>1</td>\n",
       "      <td>1</td>\n",
       "      <td>14660462</td>\n",
       "      <td>Masculino</td>\n",
       "      <td>56</td>\n",
       "      <td>Tucuman</td>\n",
       "      <td>Sucursales (MV)</td>\n",
       "      <td>FV Socio (PunV)</td>\n",
       "      <td>FV Socio (PueV)</td>\n",
       "      <td>Q5</td>\n",
       "      <td>Tx Sin Financ.</td>\n",
       "    </tr>\n",
       "    <tr>\n",
       "      <th>61872</th>\n",
       "      <td>304-100723-178819</td>\n",
       "      <td>100723</td>\n",
       "      <td>178819</td>\n",
       "      <td>304</td>\n",
       "      <td>SVC T.Naranja Todos Venden</td>\n",
       "      <td>Vida Colectivo</td>\n",
       "      <td>Anulada</td>\n",
       "      <td>-62.00</td>\n",
       "      <td>0</td>\n",
       "      <td>1</td>\n",
       "      <td>35650450</td>\n",
       "      <td>Femenino</td>\n",
       "      <td>27</td>\n",
       "      <td>Santa Fe</td>\n",
       "      <td>Sucursales (MV)</td>\n",
       "      <td>FV Socio (PunV)</td>\n",
       "      <td>Todos Venden (PueV)</td>\n",
       "      <td>Q2</td>\n",
       "      <td>Mixto Con Financ.Z</td>\n",
       "    </tr>\n",
       "    <tr>\n",
       "      <th>67492</th>\n",
       "      <td>232-405557-2483729</td>\n",
       "      <td>405557</td>\n",
       "      <td>2483729</td>\n",
       "      <td>232</td>\n",
       "      <td>Acc Pers Tarjetas con Cl Ajus</td>\n",
       "      <td>Accidentes Personales</td>\n",
       "      <td>Anulada</td>\n",
       "      <td>-30.81</td>\n",
       "      <td>1</td>\n",
       "      <td>1</td>\n",
       "      <td>18268033</td>\n",
       "      <td>Femenino</td>\n",
       "      <td>52</td>\n",
       "      <td>Buenos Aires</td>\n",
       "      <td>Sucursales (MV)</td>\n",
       "      <td>FV Socio (PunV)</td>\n",
       "      <td>FV Socio (PueV)</td>\n",
       "      <td>Q5</td>\n",
       "      <td>Sin Segmento</td>\n",
       "    </tr>\n",
       "    <tr>\n",
       "      <th>96355</th>\n",
       "      <td>232-405557-2324087</td>\n",
       "      <td>405557</td>\n",
       "      <td>2324087</td>\n",
       "      <td>232</td>\n",
       "      <td>Acc Pers Tarjetas con Cl Ajus</td>\n",
       "      <td>Accidentes Personales</td>\n",
       "      <td>Anulada</td>\n",
       "      <td>-22.75</td>\n",
       "      <td>1</td>\n",
       "      <td>1</td>\n",
       "      <td>29340183</td>\n",
       "      <td>Masculino</td>\n",
       "      <td>36</td>\n",
       "      <td>Santiago del Estero</td>\n",
       "      <td>Sucursales (MV)</td>\n",
       "      <td>FV Socio (PunV)</td>\n",
       "      <td>FV Socio (PueV)</td>\n",
       "      <td>Q2</td>\n",
       "      <td>Tx Con Financ.</td>\n",
       "    </tr>\n",
       "    <tr>\n",
       "      <th>97859</th>\n",
       "      <td>3075-102903-155263</td>\n",
       "      <td>102903</td>\n",
       "      <td>155263</td>\n",
       "      <td>3075</td>\n",
       "      <td>Seguro de Compra T.Naranja</td>\n",
       "      <td>Riesgos Varios</td>\n",
       "      <td>Anulada</td>\n",
       "      <td>-125.00</td>\n",
       "      <td>0</td>\n",
       "      <td>1</td>\n",
       "      <td>5332990</td>\n",
       "      <td>Femenino</td>\n",
       "      <td>67</td>\n",
       "      <td>Dato Erroneo</td>\n",
       "      <td>Telemarketing (MV)</td>\n",
       "      <td>Externo (PunV)</td>\n",
       "      <td>Deelo IN (PueV)</td>\n",
       "      <td>Q5</td>\n",
       "      <td>Esporadico</td>\n",
       "    </tr>\n",
       "    <tr>\n",
       "      <th>103604</th>\n",
       "      <td>232-405557-2238792</td>\n",
       "      <td>405557</td>\n",
       "      <td>2238792</td>\n",
       "      <td>232</td>\n",
       "      <td>Acc Pers Tarjetas con Cl Ajus</td>\n",
       "      <td>Accidentes Personales</td>\n",
       "      <td>Anulada</td>\n",
       "      <td>-22.75</td>\n",
       "      <td>1</td>\n",
       "      <td>1</td>\n",
       "      <td>39169302</td>\n",
       "      <td>Femenino</td>\n",
       "      <td>22</td>\n",
       "      <td>Buenos Aires</td>\n",
       "      <td>Sucursales (MV)</td>\n",
       "      <td>FV Socio (PunV)</td>\n",
       "      <td>FV Socio (PueV)</td>\n",
       "      <td>Q4</td>\n",
       "      <td>Completos</td>\n",
       "    </tr>\n",
       "    <tr>\n",
       "      <th>109046</th>\n",
       "      <td>241-1221298-0</td>\n",
       "      <td>1221298</td>\n",
       "      <td>0</td>\n",
       "      <td>241</td>\n",
       "      <td>AP Capital Uni. Amer. Assist</td>\n",
       "      <td>Accidentes Personales</td>\n",
       "      <td>Anulada</td>\n",
       "      <td>-222.16</td>\n",
       "      <td>0</td>\n",
       "      <td>1</td>\n",
       "      <td>10146252</td>\n",
       "      <td>Masculino</td>\n",
       "      <td>66</td>\n",
       "      <td>Chubut</td>\n",
       "      <td>Telemarketing (MV)</td>\n",
       "      <td>Externo (PunV)</td>\n",
       "      <td>PyD (PueV)</td>\n",
       "      <td>Q5</td>\n",
       "      <td>Mixto</td>\n",
       "    </tr>\n",
       "    <tr>\n",
       "      <th>128276</th>\n",
       "      <td>2045-1849613-0</td>\n",
       "      <td>1849613</td>\n",
       "      <td>0</td>\n",
       "      <td>2045</td>\n",
       "      <td>SH PLUS Tarjetas Regionales</td>\n",
       "      <td>Combinado Familiar</td>\n",
       "      <td>Anulada</td>\n",
       "      <td>-364.77</td>\n",
       "      <td>0</td>\n",
       "      <td>1</td>\n",
       "      <td>27149634</td>\n",
       "      <td>Femenino</td>\n",
       "      <td>39</td>\n",
       "      <td>Santa Fe</td>\n",
       "      <td>Telemarketing (MV)</td>\n",
       "      <td>Externo (PunV)</td>\n",
       "      <td>DDM (PueV)</td>\n",
       "      <td>Q3</td>\n",
       "      <td>Mixto</td>\n",
       "    </tr>\n",
       "    <tr>\n",
       "      <th>133463</th>\n",
       "      <td>304-100723-48307</td>\n",
       "      <td>100723</td>\n",
       "      <td>48307</td>\n",
       "      <td>304</td>\n",
       "      <td>SVC T.Naranja Todos Venden</td>\n",
       "      <td>Vida Colectivo</td>\n",
       "      <td>Anulada</td>\n",
       "      <td>-50.00</td>\n",
       "      <td>0</td>\n",
       "      <td>1</td>\n",
       "      <td>30355612</td>\n",
       "      <td>Femenino</td>\n",
       "      <td>34</td>\n",
       "      <td>Santiago del Estero</td>\n",
       "      <td>Sucursales (MV)</td>\n",
       "      <td>FV Socio (PunV)</td>\n",
       "      <td>Todos Venden (PueV)</td>\n",
       "      <td>Q5</td>\n",
       "      <td>Sin Segmento</td>\n",
       "    </tr>\n",
       "    <tr>\n",
       "      <th>154630</th>\n",
       "      <td>232-405557-2202649</td>\n",
       "      <td>405557</td>\n",
       "      <td>2202649</td>\n",
       "      <td>232</td>\n",
       "      <td>Acc Pers Tarjetas con Cl Ajus</td>\n",
       "      <td>Accidentes Personales</td>\n",
       "      <td>Anulada</td>\n",
       "      <td>-22.75</td>\n",
       "      <td>1</td>\n",
       "      <td>1</td>\n",
       "      <td>23195573</td>\n",
       "      <td>Femenino</td>\n",
       "      <td>45</td>\n",
       "      <td>Cordoba</td>\n",
       "      <td>Sucursales (MV)</td>\n",
       "      <td>FV Socio (PunV)</td>\n",
       "      <td>FV Socio (PueV)</td>\n",
       "      <td>Q5</td>\n",
       "      <td>Tx Con Financ.</td>\n",
       "    </tr>\n",
       "    <tr>\n",
       "      <th>198785</th>\n",
       "      <td>304-100723-280392</td>\n",
       "      <td>100723</td>\n",
       "      <td>280392</td>\n",
       "      <td>304</td>\n",
       "      <td>SVC T.Naranja Todos Venden</td>\n",
       "      <td>Vida Colectivo</td>\n",
       "      <td>Anulada</td>\n",
       "      <td>-62.00</td>\n",
       "      <td>0</td>\n",
       "      <td>1</td>\n",
       "      <td>36579819</td>\n",
       "      <td>Femenino</td>\n",
       "      <td>24</td>\n",
       "      <td>Tierra del Fuego</td>\n",
       "      <td>Sucursales (MV)</td>\n",
       "      <td>FV Socio (PunV)</td>\n",
       "      <td>Todos Venden (PueV)</td>\n",
       "      <td>Q4</td>\n",
       "      <td>Debitador</td>\n",
       "    </tr>\n",
       "    <tr>\n",
       "      <th>241589</th>\n",
       "      <td>245-1015818-0</td>\n",
       "      <td>1015818</td>\n",
       "      <td>0</td>\n",
       "      <td>245</td>\n",
       "      <td>AP Capital Uniforme - Sin Serv</td>\n",
       "      <td>Accidentes Personales</td>\n",
       "      <td>Anulada</td>\n",
       "      <td>-171.40</td>\n",
       "      <td>0</td>\n",
       "      <td>1</td>\n",
       "      <td>95196807</td>\n",
       "      <td>Masculino</td>\n",
       "      <td>51</td>\n",
       "      <td>Cordoba</td>\n",
       "      <td>Kioscos (MV)</td>\n",
       "      <td>Kioscos Esponsorizados (PunV)</td>\n",
       "      <td>Kioscos Esponsorizados (PueV)</td>\n",
       "      <td>Q2</td>\n",
       "      <td>Debitador Con Financ.</td>\n",
       "    </tr>\n",
       "    <tr>\n",
       "      <th>253806</th>\n",
       "      <td>245-1030304-0</td>\n",
       "      <td>1030304</td>\n",
       "      <td>0</td>\n",
       "      <td>245</td>\n",
       "      <td>AP Capital Uniforme - Sin Serv</td>\n",
       "      <td>Accidentes Personales</td>\n",
       "      <td>Anulada</td>\n",
       "      <td>-150.01</td>\n",
       "      <td>0</td>\n",
       "      <td>1</td>\n",
       "      <td>20670567</td>\n",
       "      <td>Masculino</td>\n",
       "      <td>49</td>\n",
       "      <td>Santa Cruz</td>\n",
       "      <td>Kioscos (MV)</td>\n",
       "      <td>Kioscos Esponsorizados (PunV)</td>\n",
       "      <td>Kioscos Esponsorizados (PueV)</td>\n",
       "      <td>Q4</td>\n",
       "      <td>Mixto Con Financ.Z</td>\n",
       "    </tr>\n",
       "    <tr>\n",
       "      <th>256543</th>\n",
       "      <td>2045-1755851-0</td>\n",
       "      <td>1755851</td>\n",
       "      <td>0</td>\n",
       "      <td>2045</td>\n",
       "      <td>SH PLUS Tarjetas Regionales</td>\n",
       "      <td>Combinado Familiar</td>\n",
       "      <td>Anulada</td>\n",
       "      <td>-678.10</td>\n",
       "      <td>0</td>\n",
       "      <td>1</td>\n",
       "      <td>26555961</td>\n",
       "      <td>Femenino</td>\n",
       "      <td>40</td>\n",
       "      <td>Buenos Aires</td>\n",
       "      <td>Telemarketing (MV)</td>\n",
       "      <td>Externo (PunV)</td>\n",
       "      <td>Deelo (PueV)</td>\n",
       "      <td>Q4</td>\n",
       "      <td>Mixto</td>\n",
       "    </tr>\n",
       "    <tr>\n",
       "      <th>269816</th>\n",
       "      <td>250-1205671-0</td>\n",
       "      <td>1205671</td>\n",
       "      <td>0</td>\n",
       "      <td>250</td>\n",
       "      <td>Accidentes Personales Senior</td>\n",
       "      <td>Accidentes Personales</td>\n",
       "      <td>Anulada</td>\n",
       "      <td>-221.81</td>\n",
       "      <td>0</td>\n",
       "      <td>1</td>\n",
       "      <td>7693540</td>\n",
       "      <td>Masculino</td>\n",
       "      <td>69</td>\n",
       "      <td>Cordoba</td>\n",
       "      <td>Telemarketing (MV)</td>\n",
       "      <td>Externo (PunV)</td>\n",
       "      <td>PyD (PueV)</td>\n",
       "      <td>Q5</td>\n",
       "      <td>Debitador</td>\n",
       "    </tr>\n",
       "    <tr>\n",
       "      <th>274642</th>\n",
       "      <td>1691-465679-0</td>\n",
       "      <td>465679</td>\n",
       "      <td>0</td>\n",
       "      <td>1691</td>\n",
       "      <td>Bolso P. Naranja Todos Venden</td>\n",
       "      <td>Robo y Riesgos Similares</td>\n",
       "      <td>Anulada</td>\n",
       "      <td>-51.00</td>\n",
       "      <td>0</td>\n",
       "      <td>1</td>\n",
       "      <td>5687499</td>\n",
       "      <td>Femenino</td>\n",
       "      <td>69</td>\n",
       "      <td>Dato Erroneo</td>\n",
       "      <td>Sucursales (MV)</td>\n",
       "      <td>FV Socio (PunV)</td>\n",
       "      <td>Todos Venden (PueV)</td>\n",
       "      <td>Q0</td>\n",
       "      <td>Mixto</td>\n",
       "    </tr>\n",
       "    <tr>\n",
       "      <th>281232</th>\n",
       "      <td>301-100618-1061007</td>\n",
       "      <td>100618</td>\n",
       "      <td>1061007</td>\n",
       "      <td>301</td>\n",
       "      <td>SVC Tarjetas con Cl Ajuste</td>\n",
       "      <td>Vida Colectivo</td>\n",
       "      <td>Anulada</td>\n",
       "      <td>-30.80</td>\n",
       "      <td>1</td>\n",
       "      <td>1</td>\n",
       "      <td>22082691</td>\n",
       "      <td>Femenino</td>\n",
       "      <td>47</td>\n",
       "      <td>Buenos Aires</td>\n",
       "      <td>Sucursales (MV)</td>\n",
       "      <td>FV Socio (PunV)</td>\n",
       "      <td>FV Socio (PueV)</td>\n",
       "      <td>Q5</td>\n",
       "      <td>Sin Segmento</td>\n",
       "    </tr>\n",
       "  </tbody>\n",
       "</table>\n",
       "</div>"
      ],
      "text/plain": [
       "        Solicitud_Contrato  npoliza  ncertificado  ncproducto  \\\n",
       "30877   232-405557-2535161   405557       2535161         232   \n",
       "33049    304-100723-226275   100723        226275         304   \n",
       "58591   232-405557-2418095   405557       2418095         232   \n",
       "61872    304-100723-178819   100723        178819         304   \n",
       "67492   232-405557-2483729   405557       2483729         232   \n",
       "96355   232-405557-2324087   405557       2324087         232   \n",
       "97859   3075-102903-155263   102903        155263        3075   \n",
       "103604  232-405557-2238792   405557       2238792         232   \n",
       "109046       241-1221298-0  1221298             0         241   \n",
       "128276      2045-1849613-0  1849613             0        2045   \n",
       "133463    304-100723-48307   100723         48307         304   \n",
       "154630  232-405557-2202649   405557       2202649         232   \n",
       "198785   304-100723-280392   100723        280392         304   \n",
       "241589       245-1015818-0  1015818             0         245   \n",
       "253806       245-1030304-0  1030304             0         245   \n",
       "256543      2045-1755851-0  1755851             0        2045   \n",
       "269816       250-1205671-0  1205671             0         250   \n",
       "274642       1691-465679-0   465679             0        1691   \n",
       "281232  301-100618-1061007   100618       1061007         301   \n",
       "\n",
       "                              Producto                      Ramo   Estado  \\\n",
       "30877   Acc Pers Tarjetas con Cl Ajus      Accidentes Personales  Anulada   \n",
       "33049   SVC T.Naranja Todos Venden                Vida Colectivo  Anulada   \n",
       "58591   Acc Pers Tarjetas con Cl Ajus      Accidentes Personales  Anulada   \n",
       "61872   SVC T.Naranja Todos Venden                Vida Colectivo  Anulada   \n",
       "67492   Acc Pers Tarjetas con Cl Ajus      Accidentes Personales  Anulada   \n",
       "96355   Acc Pers Tarjetas con Cl Ajus      Accidentes Personales  Anulada   \n",
       "97859   Seguro de Compra T.Naranja                Riesgos Varios  Anulada   \n",
       "103604  Acc Pers Tarjetas con Cl Ajus      Accidentes Personales  Anulada   \n",
       "109046  AP Capital Uni. Amer. Assist       Accidentes Personales  Anulada   \n",
       "128276  SH PLUS Tarjetas Regionales           Combinado Familiar  Anulada   \n",
       "133463  SVC T.Naranja Todos Venden                Vida Colectivo  Anulada   \n",
       "154630  Acc Pers Tarjetas con Cl Ajus      Accidentes Personales  Anulada   \n",
       "198785  SVC T.Naranja Todos Venden                Vida Colectivo  Anulada   \n",
       "241589  AP Capital Uniforme - Sin Serv     Accidentes Personales  Anulada   \n",
       "253806  AP Capital Uniforme - Sin Serv     Accidentes Personales  Anulada   \n",
       "256543  SH PLUS Tarjetas Regionales           Combinado Familiar  Anulada   \n",
       "269816  Accidentes Personales Senior       Accidentes Personales  Anulada   \n",
       "274642  Bolso P. Naranja Todos Venden   Robo y Riesgos Similares  Anulada   \n",
       "281232  SVC Tarjetas con Cl Ajuste                Vida Colectivo  Anulada   \n",
       "\n",
       "        Premio  Producto_Masivo  Lapse_90  cdocumento     cdSexo  Edad  \\\n",
       "30877   -30.81                1         1    14459770  Masculino    57   \n",
       "33049   -62.00                0         1    26551328  Masculino    40   \n",
       "58591   -30.81                1         1    14660462  Masculino    56   \n",
       "61872   -62.00                0         1    35650450   Femenino    27   \n",
       "67492   -30.81                1         1    18268033   Femenino    52   \n",
       "96355   -22.75                1         1    29340183  Masculino    36   \n",
       "97859  -125.00                0         1     5332990   Femenino    67   \n",
       "103604  -22.75                1         1    39169302   Femenino    22   \n",
       "109046 -222.16                0         1    10146252  Masculino    66   \n",
       "128276 -364.77                0         1    27149634   Femenino    39   \n",
       "133463  -50.00                0         1    30355612   Femenino    34   \n",
       "154630  -22.75                1         1    23195573   Femenino    45   \n",
       "198785  -62.00                0         1    36579819   Femenino    24   \n",
       "241589 -171.40                0         1    95196807  Masculino    51   \n",
       "253806 -150.01                0         1    20670567  Masculino    49   \n",
       "256543 -678.10                0         1    26555961   Femenino    40   \n",
       "269816 -221.81                0         1     7693540  Masculino    69   \n",
       "274642  -51.00                0         1     5687499   Femenino    69   \n",
       "281232  -30.80                1         1    22082691   Femenino    47   \n",
       "\n",
       "                cdProvincia       Medio_Venta_H  \\\n",
       "30877            Corrientes     Sucursales (MV)   \n",
       "33049             Rio Negro     Sucursales (MV)   \n",
       "58591               Tucuman     Sucursales (MV)   \n",
       "61872              Santa Fe     Sucursales (MV)   \n",
       "67492          Buenos Aires     Sucursales (MV)   \n",
       "96355   Santiago del Estero     Sucursales (MV)   \n",
       "97859          Dato Erroneo  Telemarketing (MV)   \n",
       "103604         Buenos Aires     Sucursales (MV)   \n",
       "109046               Chubut  Telemarketing (MV)   \n",
       "128276             Santa Fe  Telemarketing (MV)   \n",
       "133463  Santiago del Estero     Sucursales (MV)   \n",
       "154630              Cordoba     Sucursales (MV)   \n",
       "198785     Tierra del Fuego     Sucursales (MV)   \n",
       "241589              Cordoba        Kioscos (MV)   \n",
       "253806           Santa Cruz        Kioscos (MV)   \n",
       "256543         Buenos Aires  Telemarketing (MV)   \n",
       "269816              Cordoba  Telemarketing (MV)   \n",
       "274642         Dato Erroneo     Sucursales (MV)   \n",
       "281232         Buenos Aires     Sucursales (MV)   \n",
       "\n",
       "                        Punto_Venta_H                 Puesto_Venta_H  \\\n",
       "30877                 FV Socio (PunV)                FV Socio (PueV)   \n",
       "33049                 FV Socio (PunV)            Todos Venden (PueV)   \n",
       "58591                 FV Socio (PunV)                FV Socio (PueV)   \n",
       "61872                 FV Socio (PunV)            Todos Venden (PueV)   \n",
       "67492                 FV Socio (PunV)                FV Socio (PueV)   \n",
       "96355                 FV Socio (PunV)                FV Socio (PueV)   \n",
       "97859                  Externo (PunV)                Deelo IN (PueV)   \n",
       "103604                FV Socio (PunV)                FV Socio (PueV)   \n",
       "109046                 Externo (PunV)                     PyD (PueV)   \n",
       "128276                 Externo (PunV)                     DDM (PueV)   \n",
       "133463                FV Socio (PunV)            Todos Venden (PueV)   \n",
       "154630                FV Socio (PunV)                FV Socio (PueV)   \n",
       "198785                FV Socio (PunV)            Todos Venden (PueV)   \n",
       "241589  Kioscos Esponsorizados (PunV)  Kioscos Esponsorizados (PueV)   \n",
       "253806  Kioscos Esponsorizados (PunV)  Kioscos Esponsorizados (PueV)   \n",
       "256543                 Externo (PunV)                   Deelo (PueV)   \n",
       "269816                 Externo (PunV)                     PyD (PueV)   \n",
       "274642                FV Socio (PunV)            Todos Venden (PueV)   \n",
       "281232                FV Socio (PunV)                FV Socio (PueV)   \n",
       "\n",
       "       Rentabilidad               Segmento  \n",
       "30877            Q5         Tx Con Financ.  \n",
       "33049            Q4     Mixto Con Financ.Z  \n",
       "58591            Q5         Tx Sin Financ.  \n",
       "61872            Q2     Mixto Con Financ.Z  \n",
       "67492            Q5           Sin Segmento  \n",
       "96355            Q2         Tx Con Financ.  \n",
       "97859            Q5             Esporadico  \n",
       "103604           Q4              Completos  \n",
       "109046           Q5                  Mixto  \n",
       "128276           Q3                  Mixto  \n",
       "133463           Q5           Sin Segmento  \n",
       "154630           Q5         Tx Con Financ.  \n",
       "198785           Q4              Debitador  \n",
       "241589           Q2  Debitador Con Financ.  \n",
       "253806           Q4     Mixto Con Financ.Z  \n",
       "256543           Q4                  Mixto  \n",
       "269816           Q5              Debitador  \n",
       "274642           Q0                  Mixto  \n",
       "281232           Q5           Sin Segmento  "
      ]
     },
     "execution_count": 7,
     "metadata": {},
     "output_type": "execute_result"
    }
   ],
   "source": [
    "df[df['Premio']<0]"
   ]
  },
  {
   "cell_type": "markdown",
   "metadata": {},
   "source": [
    "Por el conocimiento que tenemos del negocio, notamos que los montos de los premios son coherentes, por lo cual vamos a invertir el signo de los mismos para arreglar la feature."
   ]
  },
  {
   "cell_type": "code",
   "execution_count": 8,
   "metadata": {},
   "outputs": [],
   "source": [
    "df.loc[df['Premio']<0,'Premio'] = -df.loc[df['Premio']<0,'Premio']"
   ]
  },
  {
   "cell_type": "code",
   "execution_count": 9,
   "metadata": {},
   "outputs": [
    {
     "data": {
      "text/html": [
       "<div>\n",
       "<style scoped>\n",
       "    .dataframe tbody tr th:only-of-type {\n",
       "        vertical-align: middle;\n",
       "    }\n",
       "\n",
       "    .dataframe tbody tr th {\n",
       "        vertical-align: top;\n",
       "    }\n",
       "\n",
       "    .dataframe thead th {\n",
       "        text-align: right;\n",
       "    }\n",
       "</style>\n",
       "<table border=\"1\" class=\"dataframe\">\n",
       "  <thead>\n",
       "    <tr style=\"text-align: right;\">\n",
       "      <th></th>\n",
       "      <th>npoliza</th>\n",
       "      <th>ncertificado</th>\n",
       "      <th>ncproducto</th>\n",
       "      <th>Premio</th>\n",
       "      <th>Producto_Masivo</th>\n",
       "      <th>Lapse_90</th>\n",
       "      <th>cdocumento</th>\n",
       "      <th>Edad</th>\n",
       "    </tr>\n",
       "  </thead>\n",
       "  <tbody>\n",
       "    <tr>\n",
       "      <th>count</th>\n",
       "      <td>3.000000e+05</td>\n",
       "      <td>3.000000e+05</td>\n",
       "      <td>300000.000000</td>\n",
       "      <td>300000.000000</td>\n",
       "      <td>300000.000000</td>\n",
       "      <td>300000.000000</td>\n",
       "      <td>3.000000e+05</td>\n",
       "      <td>300000.000000</td>\n",
       "    </tr>\n",
       "    <tr>\n",
       "      <th>mean</th>\n",
       "      <td>3.900621e+05</td>\n",
       "      <td>7.490415e+05</td>\n",
       "      <td>718.156773</td>\n",
       "      <td>62.659253</td>\n",
       "      <td>0.648740</td>\n",
       "      <td>0.250257</td>\n",
       "      <td>2.366718e+07</td>\n",
       "      <td>48.731377</td>\n",
       "    </tr>\n",
       "    <tr>\n",
       "      <th>std</th>\n",
       "      <td>3.614091e+05</td>\n",
       "      <td>8.300180e+05</td>\n",
       "      <td>951.141196</td>\n",
       "      <td>65.166200</td>\n",
       "      <td>0.477365</td>\n",
       "      <td>0.433162</td>\n",
       "      <td>1.672111e+07</td>\n",
       "      <td>14.608773</td>\n",
       "    </tr>\n",
       "    <tr>\n",
       "      <th>min</th>\n",
       "      <td>1.350000e+02</td>\n",
       "      <td>0.000000e+00</td>\n",
       "      <td>152.000000</td>\n",
       "      <td>0.000000</td>\n",
       "      <td>0.000000</td>\n",
       "      <td>0.000000</td>\n",
       "      <td>3.934510e+05</td>\n",
       "      <td>1.000000</td>\n",
       "    </tr>\n",
       "    <tr>\n",
       "      <th>25%</th>\n",
       "      <td>1.007230e+05</td>\n",
       "      <td>3.727325e+04</td>\n",
       "      <td>232.000000</td>\n",
       "      <td>36.030000</td>\n",
       "      <td>0.000000</td>\n",
       "      <td>0.000000</td>\n",
       "      <td>1.315505e+07</td>\n",
       "      <td>37.000000</td>\n",
       "    </tr>\n",
       "    <tr>\n",
       "      <th>50%</th>\n",
       "      <td>4.055570e+05</td>\n",
       "      <td>3.667800e+05</td>\n",
       "      <td>245.000000</td>\n",
       "      <td>37.190000</td>\n",
       "      <td>1.000000</td>\n",
       "      <td>0.000000</td>\n",
       "      <td>2.161361e+07</td>\n",
       "      <td>49.000000</td>\n",
       "    </tr>\n",
       "    <tr>\n",
       "      <th>75%</th>\n",
       "      <td>4.055570e+05</td>\n",
       "      <td>1.308853e+06</td>\n",
       "      <td>304.000000</td>\n",
       "      <td>72.920000</td>\n",
       "      <td>1.000000</td>\n",
       "      <td>1.000000</td>\n",
       "      <td>2.985966e+07</td>\n",
       "      <td>60.000000</td>\n",
       "    </tr>\n",
       "    <tr>\n",
       "      <th>max</th>\n",
       "      <td>1.953280e+06</td>\n",
       "      <td>2.742126e+06</td>\n",
       "      <td>5900.000000</td>\n",
       "      <td>2415.000000</td>\n",
       "      <td>1.000000</td>\n",
       "      <td>1.000000</td>\n",
       "      <td>9.571337e+07</td>\n",
       "      <td>118.000000</td>\n",
       "    </tr>\n",
       "  </tbody>\n",
       "</table>\n",
       "</div>"
      ],
      "text/plain": [
       "            npoliza  ncertificado     ncproducto         Premio  \\\n",
       "count  3.000000e+05  3.000000e+05  300000.000000  300000.000000   \n",
       "mean   3.900621e+05  7.490415e+05     718.156773      62.659253   \n",
       "std    3.614091e+05  8.300180e+05     951.141196      65.166200   \n",
       "min    1.350000e+02  0.000000e+00     152.000000       0.000000   \n",
       "25%    1.007230e+05  3.727325e+04     232.000000      36.030000   \n",
       "50%    4.055570e+05  3.667800e+05     245.000000      37.190000   \n",
       "75%    4.055570e+05  1.308853e+06     304.000000      72.920000   \n",
       "max    1.953280e+06  2.742126e+06    5900.000000    2415.000000   \n",
       "\n",
       "       Producto_Masivo       Lapse_90    cdocumento           Edad  \n",
       "count    300000.000000  300000.000000  3.000000e+05  300000.000000  \n",
       "mean          0.648740       0.250257  2.366718e+07      48.731377  \n",
       "std           0.477365       0.433162  1.672111e+07      14.608773  \n",
       "min           0.000000       0.000000  3.934510e+05       1.000000  \n",
       "25%           0.000000       0.000000  1.315505e+07      37.000000  \n",
       "50%           1.000000       0.000000  2.161361e+07      49.000000  \n",
       "75%           1.000000       1.000000  2.985966e+07      60.000000  \n",
       "max           1.000000       1.000000  9.571337e+07     118.000000  "
      ]
     },
     "execution_count": 9,
     "metadata": {},
     "output_type": "execute_result"
    }
   ],
   "source": [
    "#Verificamos que haya quedado corregido\n",
    "\n",
    "df.describe()"
   ]
  },
  {
   "cell_type": "markdown",
   "metadata": {},
   "source": [
    "Vemos por otro lado que el campo Edad presenta algunos problemas, ya que hay edades muy bajas (1 año) o muy altas (118)\n",
    "Sabemos que ningun menor de 18 puede aquirir una poliza por politicas de la compañia. Asimismo, la edad de permanencia maxima para es 89 años."
   ]
  },
  {
   "cell_type": "markdown",
   "metadata": {},
   "source": [
    "Los valores que queden fuera de ese rango los consideraremos outliers, y los eliminaremos del analisis"
   ]
  },
  {
   "cell_type": "code",
   "execution_count": 10,
   "metadata": {},
   "outputs": [],
   "source": [
    "#Nulleamos esos valores\n",
    "df.loc[df['Edad']>89, 'Edad'] = np.nan\n",
    "df.loc[df['Edad']<18, 'Edad'] = np.nan"
   ]
  },
  {
   "cell_type": "code",
   "execution_count": 11,
   "metadata": {},
   "outputs": [],
   "source": [
    "#Dropeamos los nulos del df\n",
    "df = df.dropna()"
   ]
  },
  {
   "cell_type": "markdown",
   "metadata": {},
   "source": [
    "### Veamos como estan completas las columnas de Provincia y Sexo"
   ]
  },
  {
   "cell_type": "code",
   "execution_count": 12,
   "metadata": {},
   "outputs": [
    {
     "data": {
      "text/plain": [
       "Femenino         168895\n",
       "Masculino        130547\n",
       "No informado        100\n",
       "Indeterminado         7\n",
       "Name: cdSexo, dtype: int64"
      ]
     },
     "execution_count": 12,
     "metadata": {},
     "output_type": "execute_result"
    }
   ],
   "source": [
    "df['cdSexo'].value_counts()"
   ]
  },
  {
   "cell_type": "code",
   "execution_count": 13,
   "metadata": {},
   "outputs": [
    {
     "data": {
      "text/plain": [
       "Buenos Aires                      57402\n",
       "Dato Erroneo                      52415\n",
       "Cordoba                           35213\n",
       "Santa Fe                          20407\n",
       "Tucuman                           19047\n",
       "Chaco                             13483\n",
       "Corrientes                        12122\n",
       "Salta                             11877\n",
       "Misiones                           9654\n",
       "Entre Rios                         9187\n",
       "Santiago del Estero                7352\n",
       "Santa Cruz                         7070\n",
       "Formosa                            6913\n",
       "Jujuy                              5449\n",
       "Neuquen                            5201\n",
       "Capital Federal                    4469\n",
       "Rio Negro                          4404\n",
       "Catamarca                          4346\n",
       "Chubut                             4052\n",
       "La Rioja                           4000\n",
       "San Luis                           2506\n",
       "Tierra del Fuego                   1769\n",
       "La Pampa                           1105\n",
       "Mendoza                              63\n",
       "San Juan                             42\n",
       "Todas                                 1\n",
       "Name: cdProvincia, dtype: int64"
      ]
     },
     "execution_count": 13,
     "metadata": {},
     "output_type": "execute_result"
    }
   ],
   "source": [
    "df['cdProvincia'].value_counts()"
   ]
  },
  {
   "cell_type": "code",
   "execution_count": 14,
   "metadata": {},
   "outputs": [],
   "source": [
    "#Eliminamos las observaciones con valores erroneos\n",
    "df.loc[df['cdSexo'] == 'No informado', 'cdSexo'] = np.nan\n",
    "df.loc[df['cdSexo'] == 'Indeterminado', 'cdSexo'] = np.nan\n",
    "\n",
    "df.loc[df['cdProvincia'] == 'Todas', 'cdProvincia'] = np.nan\n",
    "df.loc[df['cdProvincia'] == 'Dato Erroneo', 'cdProvincia'] = np.nan"
   ]
  },
  {
   "cell_type": "code",
   "execution_count": 15,
   "metadata": {},
   "outputs": [
    {
     "data": {
      "text/html": [
       "<div>\n",
       "<style scoped>\n",
       "    .dataframe tbody tr th:only-of-type {\n",
       "        vertical-align: middle;\n",
       "    }\n",
       "\n",
       "    .dataframe tbody tr th {\n",
       "        vertical-align: top;\n",
       "    }\n",
       "\n",
       "    .dataframe thead th {\n",
       "        text-align: right;\n",
       "    }\n",
       "</style>\n",
       "<table border=\"1\" class=\"dataframe\">\n",
       "  <thead>\n",
       "    <tr style=\"text-align: right;\">\n",
       "      <th></th>\n",
       "      <th>Solicitud_Contrato</th>\n",
       "      <th>npoliza</th>\n",
       "      <th>ncertificado</th>\n",
       "      <th>ncproducto</th>\n",
       "      <th>Producto</th>\n",
       "      <th>Ramo</th>\n",
       "      <th>Estado</th>\n",
       "      <th>Premio</th>\n",
       "      <th>Producto_Masivo</th>\n",
       "      <th>Lapse_90</th>\n",
       "      <th>cdocumento</th>\n",
       "      <th>cdSexo</th>\n",
       "      <th>Edad</th>\n",
       "      <th>cdProvincia</th>\n",
       "      <th>Medio_Venta_H</th>\n",
       "      <th>Punto_Venta_H</th>\n",
       "      <th>Puesto_Venta_H</th>\n",
       "      <th>Rentabilidad</th>\n",
       "      <th>Segmento</th>\n",
       "    </tr>\n",
       "  </thead>\n",
       "  <tbody>\n",
       "    <tr>\n",
       "      <th>89879</th>\n",
       "      <td>245-1004916-0</td>\n",
       "      <td>1004916</td>\n",
       "      <td>0</td>\n",
       "      <td>245</td>\n",
       "      <td>AP Capital Uniforme - Sin Serv</td>\n",
       "      <td>Accidentes Personales</td>\n",
       "      <td>Anulada</td>\n",
       "      <td>129.01</td>\n",
       "      <td>0</td>\n",
       "      <td>1</td>\n",
       "      <td>22481682</td>\n",
       "      <td>Masculino</td>\n",
       "      <td>46.0</td>\n",
       "      <td>Todas</td>\n",
       "      <td>Kioscos (MV)</td>\n",
       "      <td>Kioscos Esponsorizados (PunV)</td>\n",
       "      <td>Kioscos Ex Zurich (PueV)</td>\n",
       "      <td>Q4</td>\n",
       "      <td>Debitador</td>\n",
       "    </tr>\n",
       "  </tbody>\n",
       "</table>\n",
       "</div>"
      ],
      "text/plain": [
       "      Solicitud_Contrato  npoliza  ncertificado  ncproducto  \\\n",
       "89879      245-1004916-0  1004916             0         245   \n",
       "\n",
       "                             Producto                   Ramo   Estado  Premio  \\\n",
       "89879  AP Capital Uniforme - Sin Serv  Accidentes Personales  Anulada  129.01   \n",
       "\n",
       "       Producto_Masivo  Lapse_90  cdocumento     cdSexo  Edad  \\\n",
       "89879                0         1    22481682  Masculino  46.0   \n",
       "\n",
       "                          cdProvincia Medio_Venta_H  \\\n",
       "89879  Todas                           Kioscos (MV)   \n",
       "\n",
       "                       Punto_Venta_H            Puesto_Venta_H Rentabilidad  \\\n",
       "89879  Kioscos Esponsorizados (PunV)  Kioscos Ex Zurich (PueV)           Q4   \n",
       "\n",
       "        Segmento  \n",
       "89879  Debitador  "
      ]
     },
     "execution_count": 15,
     "metadata": {},
     "output_type": "execute_result"
    }
   ],
   "source": [
    "df.loc[df['npoliza']==1004916]"
   ]
  },
  {
   "cell_type": "code",
   "execution_count": 16,
   "metadata": {},
   "outputs": [],
   "source": [
    "df.loc[df['npoliza']==1004916, 'cdProvincia'] = np.nan"
   ]
  },
  {
   "cell_type": "code",
   "execution_count": 17,
   "metadata": {},
   "outputs": [
    {
     "data": {
      "text/plain": [
       "Femenino     168895\n",
       "Masculino    130547\n",
       "Name: cdSexo, dtype: int64"
      ]
     },
     "execution_count": 17,
     "metadata": {},
     "output_type": "execute_result"
    }
   ],
   "source": [
    "#Verificamos que se haya corregido\n",
    "\n",
    "df['cdSexo'].value_counts()"
   ]
  },
  {
   "cell_type": "code",
   "execution_count": 18,
   "metadata": {},
   "outputs": [
    {
     "data": {
      "text/plain": [
       "Buenos Aires           57402\n",
       "Cordoba                35213\n",
       "Santa Fe               20407\n",
       "Tucuman                19047\n",
       "Chaco                  13483\n",
       "Corrientes             12122\n",
       "Salta                  11877\n",
       "Misiones                9654\n",
       "Entre Rios              9187\n",
       "Santiago del Estero     7352\n",
       "Santa Cruz              7070\n",
       "Formosa                 6913\n",
       "Jujuy                   5449\n",
       "Neuquen                 5201\n",
       "Capital Federal         4469\n",
       "Rio Negro               4404\n",
       "Catamarca               4346\n",
       "Chubut                  4052\n",
       "La Rioja                4000\n",
       "San Luis                2506\n",
       "Tierra del Fuego        1769\n",
       "La Pampa                1105\n",
       "Mendoza                   63\n",
       "San Juan                  42\n",
       "Name: cdProvincia, dtype: int64"
      ]
     },
     "execution_count": 18,
     "metadata": {},
     "output_type": "execute_result"
    }
   ],
   "source": [
    "#Verificamos que se haya corregido\n",
    "\n",
    "df['cdProvincia'].value_counts()"
   ]
  },
  {
   "cell_type": "code",
   "execution_count": 19,
   "metadata": {},
   "outputs": [
    {
     "data": {
      "text/plain": [
       "299549"
      ]
     },
     "execution_count": 19,
     "metadata": {},
     "output_type": "execute_result"
    }
   ],
   "source": [
    "#Veos las observaciones con las que nos quedamos finalmente\n",
    "len(df)"
   ]
  },
  {
   "cell_type": "markdown",
   "metadata": {},
   "source": [
    "## Arreglo del DataFrame"
   ]
  },
  {
   "cell_type": "markdown",
   "metadata": {},
   "source": [
    "Para poder tener un trackeo de como predice el modelo para una poliza en particular, transformaremos la columna Solicitud Contrato (la cual es compuesta por numero de producto, numero de poliza y numero de certificado) en el indice del DataFrame."
   ]
  },
  {
   "cell_type": "code",
   "execution_count": 20,
   "metadata": {},
   "outputs": [],
   "source": [
    "df = df.set_index(df['Solicitud_Contrato'])\n",
    "df = df.drop(columns='Solicitud_Contrato')"
   ]
  },
  {
   "cell_type": "markdown",
   "metadata": {},
   "source": [
    "### Del mismo modo, eliminaremos las columnas redudantes o que no utilizaremos para el modelado."
   ]
  },
  {
   "cell_type": "markdown",
   "metadata": {},
   "source": [
    "Sabemos que todas las polizas vigentes tendran un estado de Lapse 90 igual a 0 y que todas las anuladas tendran un estado igual 1 por la manera en la que se armo el dataset.\n",
    "Dejar esta feature al momento de modelar no tendria sentido, ya que al momento de querer hacer la prediccion todas las polizas estaran vigentes. Mas alla, la correlacion entre Lapse_90 y Estado deberia ser 1, por lo que no seria conveniente incluirla al modelar."
   ]
  },
  {
   "cell_type": "code",
   "execution_count": 21,
   "metadata": {},
   "outputs": [],
   "source": [
    "#Eliminamos las columnas que no agregan informacion al dataframe\n",
    "\n",
    "df = df.drop(columns=['npoliza','ncertificado','ncproducto','Estado','cdocumento'])"
   ]
  },
  {
   "cell_type": "code",
   "execution_count": 22,
   "metadata": {},
   "outputs": [],
   "source": [
    "#Por ultimo, renombramos algunas columnas para trabajar mas comodamente\n",
    "\n",
    "df.rename(columns={ 'cdSexo': 'Sexo',\n",
    "                    'cdProvincia': 'Provincia',\n",
    "                    'Medio_Venta_H' : 'Medio_Venta',\n",
    "                    'Punto_Venta_H' : 'Punto_Venta',\n",
    "                    'Puesto_Venta_H' : 'Puesto_Venta'}, inplace=True)"
   ]
  },
  {
   "cell_type": "code",
   "execution_count": 23,
   "metadata": {},
   "outputs": [
    {
     "data": {
      "text/html": [
       "<div>\n",
       "<style scoped>\n",
       "    .dataframe tbody tr th:only-of-type {\n",
       "        vertical-align: middle;\n",
       "    }\n",
       "\n",
       "    .dataframe tbody tr th {\n",
       "        vertical-align: top;\n",
       "    }\n",
       "\n",
       "    .dataframe thead th {\n",
       "        text-align: right;\n",
       "    }\n",
       "</style>\n",
       "<table border=\"1\" class=\"dataframe\">\n",
       "  <thead>\n",
       "    <tr style=\"text-align: right;\">\n",
       "      <th></th>\n",
       "      <th>Producto</th>\n",
       "      <th>Ramo</th>\n",
       "      <th>Premio</th>\n",
       "      <th>Producto_Masivo</th>\n",
       "      <th>Lapse_90</th>\n",
       "      <th>Sexo</th>\n",
       "      <th>Edad</th>\n",
       "      <th>Provincia</th>\n",
       "      <th>Medio_Venta</th>\n",
       "      <th>Punto_Venta</th>\n",
       "      <th>Puesto_Venta</th>\n",
       "      <th>Rentabilidad</th>\n",
       "      <th>Segmento</th>\n",
       "    </tr>\n",
       "    <tr>\n",
       "      <th>Solicitud_Contrato</th>\n",
       "      <th></th>\n",
       "      <th></th>\n",
       "      <th></th>\n",
       "      <th></th>\n",
       "      <th></th>\n",
       "      <th></th>\n",
       "      <th></th>\n",
       "      <th></th>\n",
       "      <th></th>\n",
       "      <th></th>\n",
       "      <th></th>\n",
       "      <th></th>\n",
       "      <th></th>\n",
       "    </tr>\n",
       "  </thead>\n",
       "  <tbody>\n",
       "    <tr>\n",
       "      <th>232-405557-2407376</th>\n",
       "      <td>Acc Pers Tarjetas con Cl Ajus</td>\n",
       "      <td>Accidentes Personales</td>\n",
       "      <td>30.81</td>\n",
       "      <td>1</td>\n",
       "      <td>0</td>\n",
       "      <td>Masculino</td>\n",
       "      <td>34.0</td>\n",
       "      <td>Cordoba</td>\n",
       "      <td>Sucursales (MV)</td>\n",
       "      <td>FV Socio (PunV)</td>\n",
       "      <td>FV Socio (PueV)</td>\n",
       "      <td>Q3</td>\n",
       "      <td>Tx Con Financ.</td>\n",
       "    </tr>\n",
       "    <tr>\n",
       "      <th>301-100618-390797</th>\n",
       "      <td>SVC Tarjetas con Cl Ajuste</td>\n",
       "      <td>Vida Colectivo</td>\n",
       "      <td>36.03</td>\n",
       "      <td>1</td>\n",
       "      <td>0</td>\n",
       "      <td>Femenino</td>\n",
       "      <td>30.0</td>\n",
       "      <td>Rio Negro</td>\n",
       "      <td>Sucursales (MV)</td>\n",
       "      <td>FV Socio (PunV)</td>\n",
       "      <td>FV Socio (PueV)</td>\n",
       "      <td>Q1</td>\n",
       "      <td>Completos</td>\n",
       "    </tr>\n",
       "    <tr>\n",
       "      <th>304-100723-73514</th>\n",
       "      <td>SVC T.Naranja Todos Venden</td>\n",
       "      <td>Vida Colectivo</td>\n",
       "      <td>62.00</td>\n",
       "      <td>0</td>\n",
       "      <td>0</td>\n",
       "      <td>Femenino</td>\n",
       "      <td>40.0</td>\n",
       "      <td>Santiago del Estero</td>\n",
       "      <td>Sucursales (MV)</td>\n",
       "      <td>FV Socio (PunV)</td>\n",
       "      <td>Todos Venden (PueV)</td>\n",
       "      <td>Q3</td>\n",
       "      <td>Completos</td>\n",
       "    </tr>\n",
       "    <tr>\n",
       "      <th>232-405557-2355690</th>\n",
       "      <td>Acc Pers Tarjetas con Cl Ajus</td>\n",
       "      <td>Accidentes Personales</td>\n",
       "      <td>37.19</td>\n",
       "      <td>1</td>\n",
       "      <td>0</td>\n",
       "      <td>Femenino</td>\n",
       "      <td>52.0</td>\n",
       "      <td>Santa Fe</td>\n",
       "      <td>Sucursales (MV)</td>\n",
       "      <td>FV Socio (PunV)</td>\n",
       "      <td>FV Socio (PueV)</td>\n",
       "      <td>Q2</td>\n",
       "      <td>Completos</td>\n",
       "    </tr>\n",
       "    <tr>\n",
       "      <th>232-405557-1165633</th>\n",
       "      <td>Acc Pers Tarjetas con Cl Ajus</td>\n",
       "      <td>Accidentes Personales</td>\n",
       "      <td>36.04</td>\n",
       "      <td>1</td>\n",
       "      <td>0</td>\n",
       "      <td>Masculino</td>\n",
       "      <td>34.0</td>\n",
       "      <td>Santa Fe</td>\n",
       "      <td>Sucursales (MV)</td>\n",
       "      <td>FV Socio (PunV)</td>\n",
       "      <td>FV Socio (PueV)</td>\n",
       "      <td>Q4</td>\n",
       "      <td>Mixto Con Financ.Z</td>\n",
       "    </tr>\n",
       "  </tbody>\n",
       "</table>\n",
       "</div>"
      ],
      "text/plain": [
       "                                          Producto                   Ramo  \\\n",
       "Solicitud_Contrato                                                          \n",
       "232-405557-2407376  Acc Pers Tarjetas con Cl Ajus   Accidentes Personales   \n",
       "301-100618-390797   SVC Tarjetas con Cl Ajuste             Vida Colectivo   \n",
       "304-100723-73514    SVC T.Naranja Todos Venden             Vida Colectivo   \n",
       "232-405557-2355690  Acc Pers Tarjetas con Cl Ajus   Accidentes Personales   \n",
       "232-405557-1165633  Acc Pers Tarjetas con Cl Ajus   Accidentes Personales   \n",
       "\n",
       "                    Premio  Producto_Masivo  Lapse_90       Sexo  Edad  \\\n",
       "Solicitud_Contrato                                                       \n",
       "232-405557-2407376   30.81                1         0  Masculino  34.0   \n",
       "301-100618-390797    36.03                1         0   Femenino  30.0   \n",
       "304-100723-73514     62.00                0         0   Femenino  40.0   \n",
       "232-405557-2355690   37.19                1         0   Femenino  52.0   \n",
       "232-405557-1165633   36.04                1         0  Masculino  34.0   \n",
       "\n",
       "                              Provincia      Medio_Venta      Punto_Venta  \\\n",
       "Solicitud_Contrato                                                          \n",
       "232-405557-2407376              Cordoba  Sucursales (MV)  FV Socio (PunV)   \n",
       "301-100618-390797             Rio Negro  Sucursales (MV)  FV Socio (PunV)   \n",
       "304-100723-73514    Santiago del Estero  Sucursales (MV)  FV Socio (PunV)   \n",
       "232-405557-2355690             Santa Fe  Sucursales (MV)  FV Socio (PunV)   \n",
       "232-405557-1165633             Santa Fe  Sucursales (MV)  FV Socio (PunV)   \n",
       "\n",
       "                           Puesto_Venta Rentabilidad            Segmento  \n",
       "Solicitud_Contrato                                                        \n",
       "232-405557-2407376      FV Socio (PueV)           Q3      Tx Con Financ.  \n",
       "301-100618-390797       FV Socio (PueV)           Q1           Completos  \n",
       "304-100723-73514    Todos Venden (PueV)           Q3           Completos  \n",
       "232-405557-2355690      FV Socio (PueV)           Q2           Completos  \n",
       "232-405557-1165633      FV Socio (PueV)           Q4  Mixto Con Financ.Z  "
      ]
     },
     "execution_count": 23,
     "metadata": {},
     "output_type": "execute_result"
    }
   ],
   "source": [
    "df.head()"
   ]
  },
  {
   "cell_type": "markdown",
   "metadata": {},
   "source": [
    "### Veamos como se correlacionan las variables entre si"
   ]
  },
  {
   "cell_type": "code",
   "execution_count": 24,
   "metadata": {},
   "outputs": [
    {
     "data": {
      "image/png": "[encoded data removed]",
      "text/plain": [
       "<Figure size 1080x1080 with 2 Axes>"
      ]
     },
     "metadata": {
      "needs_background": "light"
     },
     "output_type": "display_data"
    }
   ],
   "source": [
    "#Graficamos la matriz de correlacion\n",
    "fig, ax = plt.subplots(figsize=(15,15))       \n",
    "sns.heatmap(df.corr() , square=True, annot=True, ax=ax);"
   ]
  },
  {
   "cell_type": "markdown",
   "metadata": {},
   "source": [
    "Notamos una fuerte correlacion negativa entre Premio y Producto Masivo. Esto es logico, ya que estos ultimos suelen tener premios muy bajos."
   ]
  },
  {
   "cell_type": "markdown",
   "metadata": {},
   "source": [
    "# Modelado"
   ]
  },
  {
   "cell_type": "markdown",
   "metadata": {},
   "source": [
    "### Creamos variables dummies para todas las variables categoricas"
   ]
  },
  {
   "cell_type": "code",
   "execution_count": 25,
   "metadata": {},
   "outputs": [],
   "source": [
    "#Producto\n",
    "df = pd.concat([df, pd.get_dummies(data = df['Producto'], prefix= 'prod', drop_first=True)], axis = 1)\n",
    "\n",
    "#Ramo\n",
    "df = pd.concat([df, pd.get_dummies(data = df['Ramo'], prefix= 'ramo', drop_first=True)], axis = 1)\n",
    "\n",
    "#Sexo\n",
    "df = pd.concat([df, pd.get_dummies(data = df['Sexo'], prefix= 'sex', drop_first=True)], axis = 1)\n",
    "\n",
    "#Provincia\n",
    "df = pd.concat([df, pd.get_dummies(data = df['Provincia'], prefix= 'prov', drop_first=True)], axis = 1)\n",
    "\n",
    "#Medio_Venta\n",
    "df = pd.concat([df, pd.get_dummies(data = df['Medio_Venta'], prefix= 'mvta', drop_first=True)], axis = 1)\n",
    "\n",
    "#Punto_Venta\n",
    "df = pd.concat([df, pd.get_dummies(data = df['Punto_Venta'], prefix= 'ptovta', drop_first=True)], axis = 1)\n",
    "\n",
    "#Puesto_Venta\n",
    "df = pd.concat([df, pd.get_dummies(data = df['Puesto_Venta'], prefix= 'pstovta', drop_first=True)], axis = 1)\n",
    "\n",
    "#Rentabilidad\n",
    "df = pd.concat([df, pd.get_dummies(data = df['Rentabilidad'], prefix= 'rtb', drop_first=True)], axis = 1)\n",
    "\n",
    "#Segmento\n",
    "df = pd.concat([df, pd.get_dummies(data = df['Segmento'], prefix= 'segm', drop_first=True)], axis = 1)"
   ]
  },
  {
   "cell_type": "code",
   "execution_count": 26,
   "metadata": {},
   "outputs": [],
   "source": [
    "#Dropeamos las columnas originales\n",
    "\n",
    "df = df.drop(columns=['Producto', 'Ramo', 'Sexo','Provincia','Medio_Venta','Punto_Venta','Puesto_Venta','Rentabilidad','Segmento'])"
   ]
  },
  {
   "cell_type": "code",
   "execution_count": 27,
   "metadata": {},
   "outputs": [
    {
     "data": {
      "text/html": [
       "<div>\n",
       "<style scoped>\n",
       "    .dataframe tbody tr th:only-of-type {\n",
       "        vertical-align: middle;\n",
       "    }\n",
       "\n",
       "    .dataframe tbody tr th {\n",
       "        vertical-align: top;\n",
       "    }\n",
       "\n",
       "    .dataframe thead th {\n",
       "        text-align: right;\n",
       "    }\n",
       "</style>\n",
       "<table border=\"1\" class=\"dataframe\">\n",
       "  <thead>\n",
       "    <tr style=\"text-align: right;\">\n",
       "      <th></th>\n",
       "      <th>Premio</th>\n",
       "      <th>Producto_Masivo</th>\n",
       "      <th>Lapse_90</th>\n",
       "      <th>Edad</th>\n",
       "      <th>prod_AP Autonomos Naranja</th>\n",
       "      <th>prod_AP Capital Uni. Amer. Assist</th>\n",
       "      <th>prod_AP Capital Uniforme - Sin Serv</th>\n",
       "      <th>prod_AP c Inv Kiosco Naranja</th>\n",
       "      <th>prod_ATM Plus</th>\n",
       "      <th>prod_Acc Pers Tarjetas con Cl Ajus</th>\n",
       "      <th>...</th>\n",
       "      <th>rtb_Q6</th>\n",
       "      <th>segm_Debitador</th>\n",
       "      <th>segm_Debitador Con Financ.</th>\n",
       "      <th>segm_Esporadico</th>\n",
       "      <th>segm_Esporádico</th>\n",
       "      <th>segm_Mixto</th>\n",
       "      <th>segm_Mixto Con Financ.Z</th>\n",
       "      <th>segm_Sin Segmento</th>\n",
       "      <th>segm_Tx Con Financ.</th>\n",
       "      <th>segm_Tx Sin Financ.</th>\n",
       "    </tr>\n",
       "    <tr>\n",
       "      <th>Solicitud_Contrato</th>\n",
       "      <th></th>\n",
       "      <th></th>\n",
       "      <th></th>\n",
       "      <th></th>\n",
       "      <th></th>\n",
       "      <th></th>\n",
       "      <th></th>\n",
       "      <th></th>\n",
       "      <th></th>\n",
       "      <th></th>\n",
       "      <th></th>\n",
       "      <th></th>\n",
       "      <th></th>\n",
       "      <th></th>\n",
       "      <th></th>\n",
       "      <th></th>\n",
       "      <th></th>\n",
       "      <th></th>\n",
       "      <th></th>\n",
       "      <th></th>\n",
       "      <th></th>\n",
       "    </tr>\n",
       "  </thead>\n",
       "  <tbody>\n",
       "    <tr>\n",
       "      <th>232-405557-2407376</th>\n",
       "      <td>30.81</td>\n",
       "      <td>1</td>\n",
       "      <td>0</td>\n",
       "      <td>34.0</td>\n",
       "      <td>0</td>\n",
       "      <td>0</td>\n",
       "      <td>0</td>\n",
       "      <td>0</td>\n",
       "      <td>0</td>\n",
       "      <td>1</td>\n",
       "      <td>...</td>\n",
       "      <td>0</td>\n",
       "      <td>0</td>\n",
       "      <td>0</td>\n",
       "      <td>0</td>\n",
       "      <td>0</td>\n",
       "      <td>0</td>\n",
       "      <td>0</td>\n",
       "      <td>0</td>\n",
       "      <td>1</td>\n",
       "      <td>0</td>\n",
       "    </tr>\n",
       "    <tr>\n",
       "      <th>301-100618-390797</th>\n",
       "      <td>36.03</td>\n",
       "      <td>1</td>\n",
       "      <td>0</td>\n",
       "      <td>30.0</td>\n",
       "      <td>0</td>\n",
       "      <td>0</td>\n",
       "      <td>0</td>\n",
       "      <td>0</td>\n",
       "      <td>0</td>\n",
       "      <td>0</td>\n",
       "      <td>...</td>\n",
       "      <td>0</td>\n",
       "      <td>0</td>\n",
       "      <td>0</td>\n",
       "      <td>0</td>\n",
       "      <td>0</td>\n",
       "      <td>0</td>\n",
       "      <td>0</td>\n",
       "      <td>0</td>\n",
       "      <td>0</td>\n",
       "      <td>0</td>\n",
       "    </tr>\n",
       "    <tr>\n",
       "      <th>304-100723-73514</th>\n",
       "      <td>62.00</td>\n",
       "      <td>0</td>\n",
       "      <td>0</td>\n",
       "      <td>40.0</td>\n",
       "      <td>0</td>\n",
       "      <td>0</td>\n",
       "      <td>0</td>\n",
       "      <td>0</td>\n",
       "      <td>0</td>\n",
       "      <td>0</td>\n",
       "      <td>...</td>\n",
       "      <td>0</td>\n",
       "      <td>0</td>\n",
       "      <td>0</td>\n",
       "      <td>0</td>\n",
       "      <td>0</td>\n",
       "      <td>0</td>\n",
       "      <td>0</td>\n",
       "      <td>0</td>\n",
       "      <td>0</td>\n",
       "      <td>0</td>\n",
       "    </tr>\n",
       "    <tr>\n",
       "      <th>232-405557-2355690</th>\n",
       "      <td>37.19</td>\n",
       "      <td>1</td>\n",
       "      <td>0</td>\n",
       "      <td>52.0</td>\n",
       "      <td>0</td>\n",
       "      <td>0</td>\n",
       "      <td>0</td>\n",
       "      <td>0</td>\n",
       "      <td>0</td>\n",
       "      <td>1</td>\n",
       "      <td>...</td>\n",
       "      <td>0</td>\n",
       "      <td>0</td>\n",
       "      <td>0</td>\n",
       "      <td>0</td>\n",
       "      <td>0</td>\n",
       "      <td>0</td>\n",
       "      <td>0</td>\n",
       "      <td>0</td>\n",
       "      <td>0</td>\n",
       "      <td>0</td>\n",
       "    </tr>\n",
       "    <tr>\n",
       "      <th>232-405557-1165633</th>\n",
       "      <td>36.04</td>\n",
       "      <td>1</td>\n",
       "      <td>0</td>\n",
       "      <td>34.0</td>\n",
       "      <td>0</td>\n",
       "      <td>0</td>\n",
       "      <td>0</td>\n",
       "      <td>0</td>\n",
       "      <td>0</td>\n",
       "      <td>1</td>\n",
       "      <td>...</td>\n",
       "      <td>0</td>\n",
       "      <td>0</td>\n",
       "      <td>0</td>\n",
       "      <td>0</td>\n",
       "      <td>0</td>\n",
       "      <td>0</td>\n",
       "      <td>1</td>\n",
       "      <td>0</td>\n",
       "      <td>0</td>\n",
       "      <td>0</td>\n",
       "    </tr>\n",
       "  </tbody>\n",
       "</table>\n",
       "<p>5 rows × 120 columns</p>\n",
       "</div>"
      ],
      "text/plain": [
       "                    Premio  Producto_Masivo  Lapse_90  Edad  \\\n",
       "Solicitud_Contrato                                            \n",
       "232-405557-2407376   30.81                1         0  34.0   \n",
       "301-100618-390797    36.03                1         0  30.0   \n",
       "304-100723-73514     62.00                0         0  40.0   \n",
       "232-405557-2355690   37.19                1         0  52.0   \n",
       "232-405557-1165633   36.04                1         0  34.0   \n",
       "\n",
       "                    prod_AP Autonomos Naranja            \\\n",
       "Solicitud_Contrato                                        \n",
       "232-405557-2407376                                    0   \n",
       "301-100618-390797                                     0   \n",
       "304-100723-73514                                      0   \n",
       "232-405557-2355690                                    0   \n",
       "232-405557-1165633                                    0   \n",
       "\n",
       "                    prod_AP Capital Uni. Amer. Assist    \\\n",
       "Solicitud_Contrato                                        \n",
       "232-405557-2407376                                    0   \n",
       "301-100618-390797                                     0   \n",
       "304-100723-73514                                      0   \n",
       "232-405557-2355690                                    0   \n",
       "232-405557-1165633                                    0   \n",
       "\n",
       "                    prod_AP Capital Uniforme - Sin Serv  \\\n",
       "Solicitud_Contrato                                        \n",
       "232-405557-2407376                                    0   \n",
       "301-100618-390797                                     0   \n",
       "304-100723-73514                                      0   \n",
       "232-405557-2355690                                    0   \n",
       "232-405557-1165633                                    0   \n",
       "\n",
       "                    prod_AP c Inv Kiosco Naranja         \\\n",
       "Solicitud_Contrato                                        \n",
       "232-405557-2407376                                    0   \n",
       "301-100618-390797                                     0   \n",
       "304-100723-73514                                      0   \n",
       "232-405557-2355690                                    0   \n",
       "232-405557-1165633                                    0   \n",
       "\n",
       "                    prod_ATM Plus                        \\\n",
       "Solicitud_Contrato                                        \n",
       "232-405557-2407376                                    0   \n",
       "301-100618-390797                                     0   \n",
       "304-100723-73514                                      0   \n",
       "232-405557-2355690                                    0   \n",
       "232-405557-1165633                                    0   \n",
       "\n",
       "                    prod_Acc Pers Tarjetas con Cl Ajus          ...           \\\n",
       "Solicitud_Contrato                                              ...            \n",
       "232-405557-2407376                                    1         ...            \n",
       "301-100618-390797                                     0         ...            \n",
       "304-100723-73514                                      0         ...            \n",
       "232-405557-2355690                                    1         ...            \n",
       "232-405557-1165633                                    1         ...            \n",
       "\n",
       "                    rtb_Q6  segm_Debitador  segm_Debitador Con Financ.  \\\n",
       "Solicitud_Contrato                                                       \n",
       "232-405557-2407376       0               0                           0   \n",
       "301-100618-390797        0               0                           0   \n",
       "304-100723-73514         0               0                           0   \n",
       "232-405557-2355690       0               0                           0   \n",
       "232-405557-1165633       0               0                           0   \n",
       "\n",
       "                    segm_Esporadico  segm_Esporádico  segm_Mixto  \\\n",
       "Solicitud_Contrato                                                 \n",
       "232-405557-2407376                0                0           0   \n",
       "301-100618-390797                 0                0           0   \n",
       "304-100723-73514                  0                0           0   \n",
       "232-405557-2355690                0                0           0   \n",
       "232-405557-1165633                0                0           0   \n",
       "\n",
       "                    segm_Mixto Con Financ.Z  segm_Sin Segmento  \\\n",
       "Solicitud_Contrato                                               \n",
       "232-405557-2407376                        0                  0   \n",
       "301-100618-390797                         0                  0   \n",
       "304-100723-73514                          0                  0   \n",
       "232-405557-2355690                        0                  0   \n",
       "232-405557-1165633                        1                  0   \n",
       "\n",
       "                    segm_Tx Con Financ.  segm_Tx Sin Financ.  \n",
       "Solicitud_Contrato                                            \n",
       "232-405557-2407376                    1                    0  \n",
       "301-100618-390797                     0                    0  \n",
       "304-100723-73514                      0                    0  \n",
       "232-405557-2355690                    0                    0  \n",
       "232-405557-1165633                    0                    0  \n",
       "\n",
       "[5 rows x 120 columns]"
      ]
     },
     "execution_count": 27,
     "metadata": {},
     "output_type": "execute_result"
    }
   ],
   "source": [
    "df.head()"
   ]
  },
  {
   "cell_type": "code",
   "execution_count": 28,
   "metadata": {},
   "outputs": [
    {
     "data": {
      "text/plain": [
       "(299549, 120)"
      ]
     },
     "execution_count": 28,
     "metadata": {},
     "output_type": "execute_result"
    }
   ],
   "source": [
    "df.shape"
   ]
  },
  {
   "cell_type": "markdown",
   "metadata": {},
   "source": [
    "#### Importamos las librerias necesarias para el modelado"
   ]
  },
  {
   "cell_type": "code",
   "execution_count": 29,
   "metadata": {},
   "outputs": [],
   "source": [
    "from sklearn import linear_model\n",
    "from sklearn.model_selection import train_test_split"
   ]
  },
  {
   "cell_type": "markdown",
   "metadata": {},
   "source": [
    "### Naive Bayes\n",
    "Vamos a utilizar un modelo Naive Bayes como un benchmark y tener un punto de partida del cual poder mejorar"
   ]
  },
  {
   "cell_type": "code",
   "execution_count": 30,
   "metadata": {},
   "outputs": [],
   "source": [
    "#Separamos el dataset en matriz de features y variable objetivo\n",
    "\n",
    "X =  df.drop(['Lapse_90'], axis = 1)\n",
    "y = df['Lapse_90']"
   ]
  },
  {
   "cell_type": "code",
   "execution_count": 31,
   "metadata": {},
   "outputs": [
    {
     "name": "stdout",
     "output_type": "stream",
     "text": [
      "(299549, 119) (299549,)\n"
     ]
    }
   ],
   "source": [
    "print(X.shape, y.shape)"
   ]
  },
  {
   "cell_type": "code",
   "execution_count": 32,
   "metadata": {},
   "outputs": [],
   "source": [
    "# Separamos nuestro dataset en Train y Test\n",
    "X_train, X_test, y_train, y_test = train_test_split(X, y, test_size=0.25, random_state=1)"
   ]
  },
  {
   "cell_type": "markdown",
   "metadata": {},
   "source": [
    "#### Estandarizacion"
   ]
  },
  {
   "cell_type": "code",
   "execution_count": 33,
   "metadata": {},
   "outputs": [],
   "source": [
    "# Utilizamos sklearn para estandarizar la matriz de Features\n",
    "from sklearn.preprocessing import StandardScaler\n",
    "scaler = StandardScaler()\n",
    "X_train = scaler.fit_transform(X_train)"
   ]
  },
  {
   "cell_type": "code",
   "execution_count": 34,
   "metadata": {},
   "outputs": [
    {
     "name": "stdout",
     "output_type": "stream",
     "text": [
      "media: -3.852208670645114e-17\n",
      "desvio: 1.0\n"
     ]
    }
   ],
   "source": [
    "#Chequeamos la media y el desvio\n",
    "print('media:',np.mean(X_train[:,1]))\n",
    "print('desvio:',np.std(X_train[:,1]))"
   ]
  },
  {
   "cell_type": "code",
   "execution_count": 35,
   "metadata": {},
   "outputs": [
    {
     "data": {
      "text/plain": [
       "GaussianNB(priors=None)"
      ]
     },
     "execution_count": 35,
     "metadata": {},
     "output_type": "execute_result"
    }
   ],
   "source": [
    "from sklearn.naive_bayes import GaussianNB\n",
    "modelo_NB = GaussianNB()\n",
    "modelo_NB.fit(X_train, y_train)"
   ]
  },
  {
   "cell_type": "code",
   "execution_count": 36,
   "metadata": {},
   "outputs": [],
   "source": [
    "#Estandarizamos el set de testeo con lo que aprendio el Scaler\n",
    "X_test = scaler.transform(X_test)\n",
    "# Predicción\n",
    "labels_predichas = modelo_NB.predict(X_test)"
   ]
  },
  {
   "cell_type": "code",
   "execution_count": 37,
   "metadata": {},
   "outputs": [],
   "source": [
    "#Analizamos la performance del modelo\n",
    "from sklearn.metrics import confusion_matrix\n",
    "% matplotlib inline"
   ]
  },
  {
   "cell_type": "code",
   "execution_count": 38,
   "metadata": {},
   "outputs": [
    {
     "data": {
      "text/plain": [
       "0.8259801303279564"
      ]
     },
     "execution_count": 38,
     "metadata": {},
     "output_type": "execute_result"
    }
   ],
   "source": [
    "# Primero calculamos el accuracy general del modelo\n",
    "from sklearn.metrics import accuracy_score\n",
    "accuracy_NB = accuracy_score(y_test, labels_predichas)\n",
    "accuracy_score(y_test, labels_predichas)"
   ]
  },
  {
   "cell_type": "code",
   "execution_count": 39,
   "metadata": {},
   "outputs": [
    {
     "data": {
      "image/png": "[encoded data removed]",
      "text/plain": [
       "<Figure size 432x288 with 1 Axes>"
      ]
     },
     "metadata": {
      "needs_background": "light"
     },
     "output_type": "display_data"
    }
   ],
   "source": [
    "# Ahora calculamos la matriz de confusión\n",
    "mat = confusion_matrix(y_test, labels_predichas)\n",
    "\n",
    "ax = plt.axes()\n",
    "\n",
    "sns.heatmap(mat.T, square=True, annot=True, fmt='d', cbar=False,\n",
    "            xticklabels=['Negativo','Positivo'], yticklabels=['Negativo','Positivo'], ax=ax)\n",
    "\n",
    "ax.set_title('Matriz de Confusion Naive Bayes')\n",
    "\n",
    "plt.xlabel('Etiquetas Verdaderas')\n",
    "plt.ylabel('Etiquetas Predichas');"
   ]
  },
  {
   "cell_type": "markdown",
   "metadata": {},
   "source": [
    "## Conclusion\n",
    "\n",
    "El modelo de Naive Bayes arrojo una accuracy de 82%. Este es el resultado que vamos a querer mejorar mediante la aplicacion de otros modelos de clasificacion.\n",
    "Analicemos entonces las metricas de recall y precision para ver si el modelo esta teniendo muchos falsos positivos o falsos negativos"
   ]
  },
  {
   "cell_type": "code",
   "execution_count": 40,
   "metadata": {},
   "outputs": [],
   "source": [
    "#Separamos los verdaderos positivos y negativos, de los falsos positivos y negativos\n",
    "\n",
    "TP = mat[1, 1]\n",
    "TN = mat[0, 0]\n",
    "FP = mat[0, 1]\n",
    "FN = mat[1, 0]"
   ]
  },
  {
   "cell_type": "code",
   "execution_count": 41,
   "metadata": {},
   "outputs": [
    {
     "data": {
      "text/plain": [
       "0.17401986967204364"
      ]
     },
     "execution_count": 41,
     "metadata": {},
     "output_type": "execute_result"
    }
   ],
   "source": [
    "#Classification Error\n",
    "class_error_NB = (1 - accuracy_NB)\n",
    "class_error_NB"
   ]
  },
  {
   "cell_type": "code",
   "execution_count": 42,
   "metadata": {},
   "outputs": [
    {
     "data": {
      "text/plain": [
       "0.37722893490179377"
      ]
     },
     "execution_count": 42,
     "metadata": {},
     "output_type": "execute_result"
    }
   ],
   "source": [
    "#Recall\n",
    "from sklearn.metrics import recall_score\n",
    "\n",
    "recall_NB = recall_score(y_test, labels_predichas)\n",
    "recall_NB"
   ]
  },
  {
   "cell_type": "code",
   "execution_count": 43,
   "metadata": {},
   "outputs": [
    {
     "data": {
      "text/plain": [
       "0.97625710771644"
      ]
     },
     "execution_count": 43,
     "metadata": {},
     "output_type": "execute_result"
    }
   ],
   "source": [
    "#Specificity\n",
    "specificity_NB = TN / (TN + FP)\n",
    "specificity_NB"
   ]
  },
  {
   "cell_type": "code",
   "execution_count": 44,
   "metadata": {},
   "outputs": [
    {
     "data": {
      "text/plain": [
       "0.8417864354436394"
      ]
     },
     "execution_count": 44,
     "metadata": {},
     "output_type": "execute_result"
    }
   ],
   "source": [
    "#Precision\n",
    "from sklearn.metrics import precision_score\n",
    "\n",
    "precision_NB = precision_score(y_test, labels_predichas)\n",
    "precision_NB"
   ]
  },
  {
   "cell_type": "code",
   "execution_count": 45,
   "metadata": {},
   "outputs": [
    {
     "data": {
      "text/plain": [
       "0.5209880173491142"
      ]
     },
     "execution_count": 45,
     "metadata": {},
     "output_type": "execute_result"
    }
   ],
   "source": [
    "#F1 Score\n",
    "from sklearn.metrics import f1_score\n",
    "\n",
    "f1_NB = f1_score(y_test, labels_predichas)\n",
    "f1_NB"
   ]
  },
  {
   "cell_type": "code",
   "execution_count": 46,
   "metadata": {},
   "outputs": [],
   "source": [
    "#Creamos un diccionario para despues poder comparar las metricas de todos los modelos\n",
    "\n",
    "dict_Naive_Bayes = {'Modelo': 'Naive Bayes',\n",
    "                    'Accuracy': accuracy_NB,\n",
    "                    'Classification Error': class_error_NB,\n",
    "                    'Recall': recall_NB,\n",
    "                    'Specificity': specificity_NB,\n",
    "                    'Precision': precision_NB,\n",
    "                    'F1 Score': f1_NB,\n",
    "                    'Tiempo de Entrenamiento (m)': 0.01\n",
    "                   }"
   ]
  },
  {
   "cell_type": "code",
   "execution_count": 47,
   "metadata": {},
   "outputs": [
    {
     "data": {
      "text/plain": [
       "{'Modelo': 'Naive Bayes',\n",
       " 'Accuracy': 0.8259801303279564,\n",
       " 'Classification Error': 0.17401986967204364,\n",
       " 'Recall': 0.37722893490179377,\n",
       " 'Specificity': 0.97625710771644,\n",
       " 'Precision': 0.8417864354436394,\n",
       " 'F1 Score': 0.5209880173491142,\n",
       " 'Tiempo de Entrenamiento (m)': 0.01}"
      ]
     },
     "execution_count": 47,
     "metadata": {},
     "output_type": "execute_result"
    }
   ],
   "source": [
    "dict_Naive_Bayes"
   ]
  },
  {
   "cell_type": "markdown",
   "metadata": {},
   "source": [
    "Vemos que el modelo es muy especifico y tiene un recall relativamente bajo. Esta ultima metrica nos interesa que sea alta, ya que queremos minimizar el porcentaje de falsos negativos. Es preferible realizar una accion sobre un cliente que creemos que se va a caer, pero al final no lo hace, que no realizar una accion sobre uno que si se cae."
   ]
  },
  {
   "cell_type": "markdown",
   "metadata": {},
   "source": [
    "### Regresion Logistica\n",
    "\n",
    "Vamos a probar un modelo de regresion logistica con cross-validation. Vamos a probar con una lista de valores posibles del hiperparametro C y 5 folds"
   ]
  },
  {
   "cell_type": "markdown",
   "metadata": {},
   "source": [
    "## Recordemos que las features ya quedaron estandarizadas anteriormente"
   ]
  },
  {
   "cell_type": "code",
   "execution_count": 48,
   "metadata": {},
   "outputs": [
    {
     "name": "stdout",
     "output_type": "stream",
     "text": [
      "Wall time: 12min 35s\n"
     ]
    }
   ],
   "source": [
    "%%time\n",
    "from sklearn import linear_model\n",
    "\n",
    "from sklearn.model_selection import cross_val_score\n",
    "\n",
    "# Voy a querer graficar los distintos valores del score de cross validation en función del hiperparámetro C\n",
    "# Para esto voy a generar una lista de diccionarios que después se puede convertir fácilmente en DataFrame\n",
    "\n",
    "#Lista de Diccionarios\n",
    "scores_para_df = []\n",
    "\n",
    "# Defino algunos valores para C\n",
    "C_tunning = [0.001, 0.01, 0.1, 1, 10, 100, 1000]\n",
    "\n",
    "for i in C_tunning:\n",
    "    # En cada iteración instanciamos el modelo con un hiperparámetro distinto\n",
    "    lg = linear_model.LogisticRegression(C=i)\n",
    "    \n",
    "    # cross_val_scores nos devuelve un array de 5 resultados, uno por cada partición que hizo automáticamente CV  \n",
    "    cv_scores = cross_val_score(lg, X_train, y_train, cv=5)\n",
    "    \n",
    "    # Para cada valor de C, creo un diccionario con el valor de C y la media y el desvío de los scores.\n",
    "    dict_row_score = {'score_medio':np.mean(cv_scores),'score_std':np.std(cv_scores),'C':i}\n",
    "    \n",
    "    # Guardo cada uno en la lista de diccionarios\n",
    "    scores_para_df.append(dict_row_score)"
   ]
  },
  {
   "cell_type": "code",
   "execution_count": 49,
   "metadata": {},
   "outputs": [
    {
     "data": {
      "text/html": [
       "<div>\n",
       "<style scoped>\n",
       "    .dataframe tbody tr th:only-of-type {\n",
       "        vertical-align: middle;\n",
       "    }\n",
       "\n",
       "    .dataframe tbody tr th {\n",
       "        vertical-align: top;\n",
       "    }\n",
       "\n",
       "    .dataframe thead th {\n",
       "        text-align: right;\n",
       "    }\n",
       "</style>\n",
       "<table border=\"1\" class=\"dataframe\">\n",
       "  <thead>\n",
       "    <tr style=\"text-align: right;\">\n",
       "      <th></th>\n",
       "      <th>C</th>\n",
       "      <th>score_medio</th>\n",
       "      <th>score_std</th>\n",
       "    </tr>\n",
       "  </thead>\n",
       "  <tbody>\n",
       "    <tr>\n",
       "      <th>0</th>\n",
       "      <td>0.001</td>\n",
       "      <td>0.855347</td>\n",
       "      <td>0.000466</td>\n",
       "    </tr>\n",
       "    <tr>\n",
       "      <th>1</th>\n",
       "      <td>0.010</td>\n",
       "      <td>0.858467</td>\n",
       "      <td>0.000715</td>\n",
       "    </tr>\n",
       "    <tr>\n",
       "      <th>2</th>\n",
       "      <td>0.100</td>\n",
       "      <td>0.859562</td>\n",
       "      <td>0.000760</td>\n",
       "    </tr>\n",
       "    <tr>\n",
       "      <th>3</th>\n",
       "      <td>1.000</td>\n",
       "      <td>0.859798</td>\n",
       "      <td>0.000775</td>\n",
       "    </tr>\n",
       "    <tr>\n",
       "      <th>4</th>\n",
       "      <td>10.000</td>\n",
       "      <td>0.859802</td>\n",
       "      <td>0.000787</td>\n",
       "    </tr>\n",
       "    <tr>\n",
       "      <th>5</th>\n",
       "      <td>100.000</td>\n",
       "      <td>0.859802</td>\n",
       "      <td>0.000787</td>\n",
       "    </tr>\n",
       "    <tr>\n",
       "      <th>6</th>\n",
       "      <td>1000.000</td>\n",
       "      <td>0.859802</td>\n",
       "      <td>0.000787</td>\n",
       "    </tr>\n",
       "  </tbody>\n",
       "</table>\n",
       "</div>"
      ],
      "text/plain": [
       "          C  score_medio  score_std\n",
       "0     0.001     0.855347   0.000466\n",
       "1     0.010     0.858467   0.000715\n",
       "2     0.100     0.859562   0.000760\n",
       "3     1.000     0.859798   0.000775\n",
       "4    10.000     0.859802   0.000787\n",
       "5   100.000     0.859802   0.000787\n",
       "6  1000.000     0.859802   0.000787"
      ]
     },
     "execution_count": 49,
     "metadata": {},
     "output_type": "execute_result"
    }
   ],
   "source": [
    "# Pasamos el diccionario de scores a un dataframe para verlo mas comodamente\n",
    "scores = pd.DataFrame(scores_para_df)\n",
    "scores"
   ]
  },
  {
   "cell_type": "code",
   "execution_count": 50,
   "metadata": {},
   "outputs": [
    {
     "data": {
      "text/html": [
       "<div>\n",
       "<style scoped>\n",
       "    .dataframe tbody tr th:only-of-type {\n",
       "        vertical-align: middle;\n",
       "    }\n",
       "\n",
       "    .dataframe tbody tr th {\n",
       "        vertical-align: top;\n",
       "    }\n",
       "\n",
       "    .dataframe thead th {\n",
       "        text-align: right;\n",
       "    }\n",
       "</style>\n",
       "<table border=\"1\" class=\"dataframe\">\n",
       "  <thead>\n",
       "    <tr style=\"text-align: right;\">\n",
       "      <th></th>\n",
       "      <th>C</th>\n",
       "      <th>score_medio</th>\n",
       "      <th>score_std</th>\n",
       "    </tr>\n",
       "  </thead>\n",
       "  <tbody>\n",
       "    <tr>\n",
       "      <th>4</th>\n",
       "      <td>10.0</td>\n",
       "      <td>0.859802</td>\n",
       "      <td>0.000787</td>\n",
       "    </tr>\n",
       "    <tr>\n",
       "      <th>5</th>\n",
       "      <td>100.0</td>\n",
       "      <td>0.859802</td>\n",
       "      <td>0.000787</td>\n",
       "    </tr>\n",
       "    <tr>\n",
       "      <th>6</th>\n",
       "      <td>1000.0</td>\n",
       "      <td>0.859802</td>\n",
       "      <td>0.000787</td>\n",
       "    </tr>\n",
       "  </tbody>\n",
       "</table>\n",
       "</div>"
      ],
      "text/plain": [
       "        C  score_medio  score_std\n",
       "4    10.0     0.859802   0.000787\n",
       "5   100.0     0.859802   0.000787\n",
       "6  1000.0     0.859802   0.000787"
      ]
     },
     "execution_count": 50,
     "metadata": {},
     "output_type": "execute_result"
    }
   ],
   "source": [
    "# Que C es el que maximiza el score??\n",
    "scores[scores['score_medio']==scores['score_medio'].max()]"
   ]
  },
  {
   "cell_type": "code",
   "execution_count": 51,
   "metadata": {},
   "outputs": [],
   "source": [
    "#Re-entrenamos el modelo, con todo el dataset, con el mejor hiperparametro\n",
    "\n",
    "#Instanciamos el modelo\n",
    "lg_final = linear_model.LogisticRegression(C=10)\n",
    "\n",
    "#Fiteamos\n",
    "lg_final.fit(X_train, y_train)\n",
    "\n",
    "#Prediccion sobre test\n",
    "y_pred_lg_test = lg_final.predict(X_test)"
   ]
  },
  {
   "cell_type": "code",
   "execution_count": 52,
   "metadata": {},
   "outputs": [
    {
     "data": {
      "text/plain": [
       "0.8569997863476124"
      ]
     },
     "execution_count": 52,
     "metadata": {},
     "output_type": "execute_result"
    }
   ],
   "source": [
    "# Calculamos el accuracy\n",
    "accuracy_LG = accuracy_score(y_test, y_pred_lg_test)\n",
    "accuracy_score(y_test, y_pred_lg_test)"
   ]
  },
  {
   "cell_type": "code",
   "execution_count": 53,
   "metadata": {},
   "outputs": [
    {
     "data": {
      "image/png": "[encoded data removed]",
      "text/plain": [
       "<Figure size 432x288 with 1 Axes>"
      ]
     },
     "metadata": {
      "needs_background": "light"
     },
     "output_type": "display_data"
    }
   ],
   "source": [
    "# Matriz de confusión:\n",
    "mat_lg = confusion_matrix(y_test, y_pred_lg_test)\n",
    "\n",
    "ax = plt.axes()\n",
    "\n",
    "sns.heatmap(mat_lg.T, square=True, annot=True, fmt='d', cbar=False,\n",
    "            xticklabels=['Negativo','Positivo'], yticklabels=['Negativo','Positivo'], ax=ax)\n",
    "\n",
    "ax.set_title('Matriz de Confusion Logistic Regression')\n",
    "\n",
    "plt.xlabel('Etiquetas Verdaderas')\n",
    "plt.ylabel('Etiquetas Predichas');"
   ]
  },
  {
   "cell_type": "markdown",
   "metadata": {},
   "source": [
    "## Calculamos el resto de las metricas del modelo"
   ]
  },
  {
   "cell_type": "code",
   "execution_count": 54,
   "metadata": {},
   "outputs": [],
   "source": [
    "#Separamos los verdaderos positivos y negativos, de los falsos positivos y negativos\n",
    "\n",
    "TP = mat_lg[1, 1]\n",
    "TN = mat_lg[0, 0]\n",
    "FP = mat_lg[0, 1]\n",
    "FN = mat_lg[1, 0]\n",
    "\n",
    "#Classification Error\n",
    "class_error_LG = (1 - accuracy_LG)\n",
    "#Recall\n",
    "recall_LG = recall_score(y_test, y_pred_lg_test)\n",
    "#Specificity\n",
    "specificity_LG = TN / (TN + FP)\n",
    "#Precision\n",
    "precision_LG = precision_score(y_test, y_pred_lg_test)\n",
    "#F1 Score\n",
    "f1_LG = f1_score(y_test, y_pred_lg_test)"
   ]
  },
  {
   "cell_type": "code",
   "execution_count": 55,
   "metadata": {},
   "outputs": [],
   "source": [
    "#Creamos un diccionario para despues poder comparar las metricas de todos los modelos\n",
    "\n",
    "dict_Logistic = {  'Modelo': 'Regresion Logistica',\n",
    "                    'Accuracy': accuracy_LG,\n",
    "                    'Classification Error': class_error_LG,\n",
    "                    'Recall': recall_LG,\n",
    "                    'Specificity': specificity_LG,\n",
    "                    'Precision': precision_LG,\n",
    "                    'F1 Score': f1_LG,\n",
    "                    'Tiempo de Entrenamiento (m)': 11\n",
    "                 }"
   ]
  },
  {
   "cell_type": "code",
   "execution_count": 56,
   "metadata": {},
   "outputs": [
    {
     "data": {
      "text/plain": [
       "{'Modelo': 'Regresion Logistica',\n",
       " 'Accuracy': 0.8569997863476124,\n",
       " 'Classification Error': 0.14300021365238758,\n",
       " 'Recall': 0.5373928780539735,\n",
       " 'Specificity': 0.9640291616905224,\n",
       " 'Precision': 0.8334158824500578,\n",
       " 'F1 Score': 0.6534416361930034,\n",
       " 'Tiempo de Entrenamiento (m)': 11}"
      ]
     },
     "execution_count": 56,
     "metadata": {},
     "output_type": "execute_result"
    }
   ],
   "source": [
    "dict_Logistic"
   ]
  },
  {
   "cell_type": "markdown",
   "metadata": {},
   "source": [
    "### KNN"
   ]
  },
  {
   "cell_type": "code",
   "execution_count": 58,
   "metadata": {},
   "outputs": [
    {
     "name": "stdout",
     "output_type": "stream",
     "text": [
      "Wall time: 16h 59min 19s\n"
     ]
    }
   ],
   "source": [
    "%%time\n",
    "from sklearn.neighbors import KNeighborsClassifier\n",
    "\n",
    "# Para esto vamos a generar una lista de diccionarios que después se puede convertir fácilmente en DataFrame con los valores del\n",
    "# hiperparametro K que vamos a probar\n",
    "\n",
    "#Lista de Diccionarios\n",
    "KNN_scores_para_df = []\n",
    "\n",
    "# range(1,100,10) son los posibles valores de n_neighbors que quiero explorar. Son todos los enteros desde el 1\n",
    "# hasta el 100 en saltos de a 10. (Start,Stop,Step)\n",
    "for i in range(1,100,10):\n",
    "    # En cada iteración instanciamos el modelo con un hiperparámetro distinto\n",
    "    KNN_model = KNeighborsClassifier(n_neighbors=i)\n",
    "    \n",
    "    # cross_val_scores nos devuelve un array de 5 resultados, uno por cada partición que hizo automáticamente CV  \n",
    "    KNN_cv_scores = cross_val_score(KNN_model, X_train, y_train, cv=5)\n",
    "    \n",
    "    # Para cada valor de n_neighbours, creo un diccionario con el valor de n_neighbours y la media y el desvío de los scores.\n",
    "    KNN_dict_row_score = {'score_medio':np.mean(KNN_cv_scores),'score_std':np.std(KNN_cv_scores),'n_neighbours':i}\n",
    "    \n",
    "    # Guardo cada uno en la lista de diccionarios\n",
    "    KNN_scores_para_df.append(KNN_dict_row_score)"
   ]
  },
  {
   "cell_type": "code",
   "execution_count": 60,
   "metadata": {},
   "outputs": [
    {
     "data": {
      "text/html": [
       "<div>\n",
       "<style scoped>\n",
       "    .dataframe tbody tr th:only-of-type {\n",
       "        vertical-align: middle;\n",
       "    }\n",
       "\n",
       "    .dataframe tbody tr th {\n",
       "        vertical-align: top;\n",
       "    }\n",
       "\n",
       "    .dataframe thead th {\n",
       "        text-align: right;\n",
       "    }\n",
       "</style>\n",
       "<table border=\"1\" class=\"dataframe\">\n",
       "  <thead>\n",
       "    <tr style=\"text-align: right;\">\n",
       "      <th></th>\n",
       "      <th>n_neighbours</th>\n",
       "      <th>score_medio</th>\n",
       "      <th>score_std</th>\n",
       "    </tr>\n",
       "  </thead>\n",
       "  <tbody>\n",
       "    <tr>\n",
       "      <th>0</th>\n",
       "      <td>1</td>\n",
       "      <td>0.857216</td>\n",
       "      <td>0.000700</td>\n",
       "    </tr>\n",
       "    <tr>\n",
       "      <th>1</th>\n",
       "      <td>11</td>\n",
       "      <td>0.858698</td>\n",
       "      <td>0.001475</td>\n",
       "    </tr>\n",
       "    <tr>\n",
       "      <th>2</th>\n",
       "      <td>21</td>\n",
       "      <td>0.855186</td>\n",
       "      <td>0.000463</td>\n",
       "    </tr>\n",
       "    <tr>\n",
       "      <th>3</th>\n",
       "      <td>31</td>\n",
       "      <td>0.853441</td>\n",
       "      <td>0.000481</td>\n",
       "    </tr>\n",
       "    <tr>\n",
       "      <th>4</th>\n",
       "      <td>41</td>\n",
       "      <td>0.850971</td>\n",
       "      <td>0.000636</td>\n",
       "    </tr>\n",
       "    <tr>\n",
       "      <th>5</th>\n",
       "      <td>51</td>\n",
       "      <td>0.849391</td>\n",
       "      <td>0.000288</td>\n",
       "    </tr>\n",
       "    <tr>\n",
       "      <th>6</th>\n",
       "      <td>61</td>\n",
       "      <td>0.848109</td>\n",
       "      <td>0.000617</td>\n",
       "    </tr>\n",
       "    <tr>\n",
       "      <th>7</th>\n",
       "      <td>71</td>\n",
       "      <td>0.847050</td>\n",
       "      <td>0.000609</td>\n",
       "    </tr>\n",
       "    <tr>\n",
       "      <th>8</th>\n",
       "      <td>81</td>\n",
       "      <td>0.846084</td>\n",
       "      <td>0.001025</td>\n",
       "    </tr>\n",
       "    <tr>\n",
       "      <th>9</th>\n",
       "      <td>91</td>\n",
       "      <td>0.844708</td>\n",
       "      <td>0.001119</td>\n",
       "    </tr>\n",
       "  </tbody>\n",
       "</table>\n",
       "</div>"
      ],
      "text/plain": [
       "   n_neighbours  score_medio  score_std\n",
       "0             1     0.857216   0.000700\n",
       "1            11     0.858698   0.001475\n",
       "2            21     0.855186   0.000463\n",
       "3            31     0.853441   0.000481\n",
       "4            41     0.850971   0.000636\n",
       "5            51     0.849391   0.000288\n",
       "6            61     0.848109   0.000617\n",
       "7            71     0.847050   0.000609\n",
       "8            81     0.846084   0.001025\n",
       "9            91     0.844708   0.001119"
      ]
     },
     "execution_count": 60,
     "metadata": {},
     "output_type": "execute_result"
    }
   ],
   "source": [
    "# Creamos el DataFrame a partir de la lista de diccionarios\n",
    "scores_KNN = pd.DataFrame(KNN_scores_para_df)\n",
    "scores_KNN"
   ]
  },
  {
   "cell_type": "code",
   "execution_count": 61,
   "metadata": {},
   "outputs": [
    {
     "data": {
      "text/html": [
       "<div>\n",
       "<style scoped>\n",
       "    .dataframe tbody tr th:only-of-type {\n",
       "        vertical-align: middle;\n",
       "    }\n",
       "\n",
       "    .dataframe tbody tr th {\n",
       "        vertical-align: top;\n",
       "    }\n",
       "\n",
       "    .dataframe thead th {\n",
       "        text-align: right;\n",
       "    }\n",
       "</style>\n",
       "<table border=\"1\" class=\"dataframe\">\n",
       "  <thead>\n",
       "    <tr style=\"text-align: right;\">\n",
       "      <th></th>\n",
       "      <th>n_neighbours</th>\n",
       "      <th>score_medio</th>\n",
       "      <th>score_std</th>\n",
       "    </tr>\n",
       "  </thead>\n",
       "  <tbody>\n",
       "    <tr>\n",
       "      <th>1</th>\n",
       "      <td>11</td>\n",
       "      <td>0.858698</td>\n",
       "      <td>0.001475</td>\n",
       "    </tr>\n",
       "  </tbody>\n",
       "</table>\n",
       "</div>"
      ],
      "text/plain": [
       "   n_neighbours  score_medio  score_std\n",
       "1            11     0.858698   0.001475"
      ]
     },
     "execution_count": 61,
     "metadata": {},
     "output_type": "execute_result"
    }
   ],
   "source": [
    "# Que cantidad de K vecinos es el que maximiza el score??\n",
    "scores_KNN[scores_KNN['score_medio']==scores_KNN['score_medio'].max()]"
   ]
  },
  {
   "cell_type": "code",
   "execution_count": 62,
   "metadata": {},
   "outputs": [],
   "source": [
    "#Re-entrenamos el modelo, con todo el dataset, con el mejor hiperparametro\n",
    "\n",
    "#Instanciamos el modelo\n",
    "KNN_final = KNeighborsClassifier(n_neighbors = 11)\n",
    "\n",
    "#Fiteamos\n",
    "KNN_final.fit(X_train, y_train)\n",
    "\n",
    "#Prediccion sobre test\n",
    "y_pred_KNN_test = KNN_final.predict(X_test)"
   ]
  },
  {
   "cell_type": "code",
   "execution_count": 63,
   "metadata": {},
   "outputs": [
    {
     "data": {
      "text/plain": [
       "0.8605918171135563"
      ]
     },
     "execution_count": 63,
     "metadata": {},
     "output_type": "execute_result"
    }
   ],
   "source": [
    "# Calculamos el accuracy\n",
    "accuracy_KNN = accuracy_score(y_test, y_pred_KNN_test)\n",
    "accuracy_score(y_test, y_pred_KNN_test)"
   ]
  },
  {
   "cell_type": "code",
   "execution_count": 109,
   "metadata": {},
   "outputs": [
    {
     "data": {
      "image/png": "[encoded data removed]",
      "text/plain": [
       "<Figure size 432x288 with 1 Axes>"
      ]
     },
     "metadata": {
      "needs_background": "light"
     },
     "output_type": "display_data"
    }
   ],
   "source": [
    "# Matriz de confusión:\n",
    "mat_KNN = confusion_matrix(y_test, y_pred_KNN_test)\n",
    "\n",
    "ax = plt.axes()\n",
    "\n",
    "sns.heatmap(mat_KNN.T, square=True, annot=True, fmt='d', cbar=False,\n",
    "            xticklabels=['Negativo','Positivo'], yticklabels=['Negativo','Positivo'], ax=ax)\n",
    "\n",
    "ax.set_title('Matriz de Confusion KNN')\n",
    "plt.xlabel('Etiquetas Verdaderas')\n",
    "plt.ylabel('Etiquetas Predichas');"
   ]
  },
  {
   "cell_type": "markdown",
   "metadata": {},
   "source": [
    "## Calculamos el resto de las metricas del modelo"
   ]
  },
  {
   "cell_type": "code",
   "execution_count": 65,
   "metadata": {},
   "outputs": [],
   "source": [
    "#Separamos los verdaderos positivos y negativos, de los falsos positivos y negativos\n",
    "\n",
    "TP = mat_KNN[1, 1]\n",
    "TN = mat_KNN[0, 0]\n",
    "FP = mat_KNN[0, 1]\n",
    "FN = mat_KNN[1, 0]\n",
    "\n",
    "#Classification Error\n",
    "class_error_KNN = (1 - accuracy_KNN)\n",
    "#Recall\n",
    "recall_KNN = recall_score(y_test, y_pred_KNN_test)\n",
    "#Specificity\n",
    "specificity_KNN = TN / (TN + FP)\n",
    "#Precision\n",
    "precision_KNN = precision_score(y_test, y_pred_KNN_test)\n",
    "#F1 Score\n",
    "f1_KNN = f1_score(y_test, y_pred_KNN_test)"
   ]
  },
  {
   "cell_type": "code",
   "execution_count": 66,
   "metadata": {},
   "outputs": [],
   "source": [
    "#Creamos un diccionario para despues poder comparar las metricas de todos los modelos\n",
    "\n",
    "dict_KNN =         {'Modelo': 'KNN',\n",
    "                    'Accuracy': accuracy_KNN,\n",
    "                    'Classification Error': class_error_KNN,\n",
    "                    'Recall': recall_KNN,\n",
    "                    'Specificity': specificity_KNN,\n",
    "                    'Precision': precision_KNN,\n",
    "                    'F1 Score': f1_KNN,\n",
    "                    'Tiempo de Entrenamiento (m)': 1020\n",
    "                 }"
   ]
  },
  {
   "cell_type": "code",
   "execution_count": 67,
   "metadata": {},
   "outputs": [
    {
     "data": {
      "text/plain": [
       "{'Modelo': 'KNN',\n",
       " 'Accuracy': 0.8605918171135563,\n",
       " 'Classification Error': 0.13940818288644374,\n",
       " 'Recall': 0.590088891254591,\n",
       " 'Specificity': 0.9511773408673642,\n",
       " 'Precision': 0.8018806509945751,\n",
       " 'F1 Score': 0.679872439592788,\n",
       " 'Tiempo de Entrenamiento (m)': 1020}"
      ]
     },
     "execution_count": 67,
     "metadata": {},
     "output_type": "execute_result"
    }
   ],
   "source": [
    "dict_KNN"
   ]
  },
  {
   "cell_type": "markdown",
   "metadata": {},
   "source": [
    "### CatBoost"
   ]
  },
  {
   "cell_type": "markdown",
   "metadata": {},
   "source": [
    "CatBoost es un algoritmo de Gradient Boosting, que requiere que todos los datos sean del tipo string o integer. Por lo cual vamos a tener que transformar la variable de premio en integer"
   ]
  },
  {
   "cell_type": "code",
   "execution_count": 57,
   "metadata": {},
   "outputs": [],
   "source": [
    "# Modificamos la columna de premio\n",
    "df_catboost = df\n",
    "df_catboost['Premio'] = df_catboost['Premio'].astype(int)"
   ]
  },
  {
   "cell_type": "code",
   "execution_count": 58,
   "metadata": {},
   "outputs": [],
   "source": [
    "#Separamos el dataset en matriz de features y variable objetivo\n",
    "\n",
    "X_cb =  df_catboost.drop(['Lapse_90'], axis = 1)\n",
    "y_cb = df_catboost['Lapse_90']"
   ]
  },
  {
   "cell_type": "code",
   "execution_count": 59,
   "metadata": {},
   "outputs": [],
   "source": [
    "# Inicializo mis sets de testeo y training\n",
    "train_set, test_set, train_label, test_label = train_test_split(X_cb, y_cb, test_size=0.25, random_state=1)"
   ]
  },
  {
   "cell_type": "code",
   "execution_count": 60,
   "metadata": {},
   "outputs": [],
   "source": [
    "from catboost import CatBoostClassifier\n",
    "# Instanciamos el modelo con los hiperparametros\n",
    "modelo_catboost = CatBoostClassifier(l2_leaf_reg = 3,iterations=2, depth=2, learning_rate=1, loss_function='Logloss', logging_level='Verbose')"
   ]
  },
  {
   "cell_type": "code",
   "execution_count": 61,
   "metadata": {},
   "outputs": [
    {
     "name": "stdout",
     "output_type": "stream",
     "text": [
      "0:\tlearn: 0.4743655\ttotal: 135ms\tremaining: 135ms\n",
      "1:\tlearn: 0.2832936\ttotal: 227ms\tremaining: 0us\n",
      "Wall time: 3.62 s\n"
     ]
    },
    {
     "data": {
      "text/plain": [
       "<catboost.core.CatBoostClassifier at 0xf6008a72e8>"
      ]
     },
     "execution_count": 61,
     "metadata": {},
     "output_type": "execute_result"
    }
   ],
   "source": [
    "%%time\n",
    "#Entrenamos el modelo\n",
    "modelo_catboost.fit(train_set, train_label, cat_features=[0,2,5])"
   ]
  },
  {
   "cell_type": "markdown",
   "metadata": {},
   "source": [
    "### Probamos el modelo sobre el set de testeo"
   ]
  },
  {
   "cell_type": "code",
   "execution_count": 63,
   "metadata": {},
   "outputs": [
    {
     "name": "stdout",
     "output_type": "stream",
     "text": [
      "class =  [0. 1. 0. ... 1. 0. 0.]\n",
      "proba =  [[0.97111091 0.02888909]\n",
      " [0.29423459 0.70576541]\n",
      " [0.61590438 0.38409562]\n",
      " ...\n",
      " [0.29423459 0.70576541]\n",
      " [0.97111091 0.02888909]\n",
      " [0.97111091 0.02888909]]\n"
     ]
    }
   ],
   "source": [
    "#Predecimos las etiquetas del set de testeo\n",
    "preds_class = modelo_catboost.predict(test_set)\n",
    "preds_proba = modelo_catboost.predict_proba(test_set)\n",
    "print(\"class = \", preds_class)\n",
    "print(\"proba = \", preds_proba)"
   ]
  },
  {
   "cell_type": "code",
   "execution_count": 64,
   "metadata": {},
   "outputs": [
    {
     "data": {
      "text/plain": [
       "0.8871855818321827"
      ]
     },
     "execution_count": 64,
     "metadata": {},
     "output_type": "execute_result"
    }
   ],
   "source": [
    "#Score del modelo en el set de entrenamiento\n",
    "modelo_catboost.score(train_set, train_label)"
   ]
  },
  {
   "cell_type": "code",
   "execution_count": 65,
   "metadata": {},
   "outputs": [
    {
     "data": {
      "text/plain": [
       "0.8865772887512018"
      ]
     },
     "execution_count": 65,
     "metadata": {},
     "output_type": "execute_result"
    }
   ],
   "source": [
    "#Score del modelo en el set de testeo\n",
    "accuracy_CAT = modelo_catboost.score(test_set, test_label)\n",
    "modelo_catboost.score(test_set, test_label)"
   ]
  },
  {
   "cell_type": "code",
   "execution_count": 66,
   "metadata": {},
   "outputs": [
    {
     "data": {
      "image/png": "[encoded data removed]",
      "text/plain": [
       "<Figure size 432x288 with 1 Axes>"
      ]
     },
     "metadata": {
      "needs_background": "light"
     },
     "output_type": "display_data"
    }
   ],
   "source": [
    "# Matriz de confusión:\n",
    "mat_cat = confusion_matrix(test_label, preds_class)\n",
    "\n",
    "ax = plt.axes()\n",
    "\n",
    "sns.heatmap(mat_cat.T, square=True, annot=True, fmt='d', cbar=False,\n",
    "            xticklabels=['Negativo','Positivo'], yticklabels=['Negativo','Positivo'],\n",
    "           ax=ax)\n",
    "ax.set_title('Matriz de Confusion CatBoost')\n",
    "plt.xlabel('Etiquetas Verdaderas')\n",
    "plt.ylabel('Etiquetas Predichas');"
   ]
  },
  {
   "cell_type": "code",
   "execution_count": 67,
   "metadata": {},
   "outputs": [],
   "source": [
    "#Separamos los verdaderos positivos y negativos, de los falsos positivos y negativos\n",
    "\n",
    "TP = mat_cat[1, 1]\n",
    "TN = mat_cat[0, 0]\n",
    "FP = mat_cat[0, 1]\n",
    "FN = mat_cat[1, 0]\n",
    "\n",
    "#Classification Error\n",
    "class_error_CAT = (1 - accuracy_CAT)\n",
    "#Recall\n",
    "recall_CAT = recall_score(test_label, preds_class)\n",
    "#Specificity\n",
    "specificity_CAT = TN / (TN + FP)\n",
    "#Precision\n",
    "precision_CAT = precision_score(test_label, preds_class)\n",
    "#F1 Score\n",
    "f1_CAT = f1_score(test_label, preds_class)"
   ]
  },
  {
   "cell_type": "code",
   "execution_count": 68,
   "metadata": {},
   "outputs": [],
   "source": [
    "#Creamos un diccionario para despues poder comparar las metricas de todos los modelos\n",
    "\n",
    "dict_CatBoost = {  'Modelo': 'CatBoost',\n",
    "                    'Accuracy': accuracy_CAT,\n",
    "                    'Classification Error': class_error_CAT,\n",
    "                    'Recall': recall_CAT,\n",
    "                    'Specificity': specificity_CAT,\n",
    "                    'Precision': precision_CAT,\n",
    "                    'F1 Score': f1_CAT,\n",
    "                    'Tiempo de Entrenamiento (m)': 0.067\n",
    "                 }"
   ]
  },
  {
   "cell_type": "code",
   "execution_count": 69,
   "metadata": {},
   "outputs": [
    {
     "data": {
      "text/plain": [
       "{'Modelo': 'CatBoost',\n",
       " 'Accuracy': 0.8865772887512018,\n",
       " 'Classification Error': 0.11342271124879821,\n",
       " 'Recall': 0.7607920370468941,\n",
       " 'Specificity': 0.9287000231724925,\n",
       " 'Precision': 0.7813371234898595,\n",
       " 'F1 Score': 0.7709277238403451,\n",
       " 'Tiempo de Entrenamiento (m)': 0.067}"
      ]
     },
     "execution_count": 69,
     "metadata": {},
     "output_type": "execute_result"
    }
   ],
   "source": [
    "dict_CatBoost"
   ]
  },
  {
   "cell_type": "markdown",
   "metadata": {},
   "source": [
    "# Comparacion de resultados"
   ]
  },
  {
   "cell_type": "code",
   "execution_count": 99,
   "metadata": {},
   "outputs": [],
   "source": [
    "#Juntamos todos los diccionarios en un dataframe\n",
    "diccionarios = [dict_Naive_Bayes,dict_Logistic,dict_KNN,dict_CatBoost]\n",
    "resultados = pd.DataFrame(diccionarios)\n",
    "\n",
    "#Reordenamos las columnas\n",
    "resultados = resultados[['Modelo','Accuracy','Classification Error','Recall','Specificity','Precision','F1 Score','Tiempo de Entrenamiento (m)']]\n"
   ]
  },
  {
   "cell_type": "code",
   "execution_count": 100,
   "metadata": {},
   "outputs": [
    {
     "data": {
      "text/html": [
       "<div>\n",
       "<style scoped>\n",
       "    .dataframe tbody tr th:only-of-type {\n",
       "        vertical-align: middle;\n",
       "    }\n",
       "\n",
       "    .dataframe tbody tr th {\n",
       "        vertical-align: top;\n",
       "    }\n",
       "\n",
       "    .dataframe thead th {\n",
       "        text-align: right;\n",
       "    }\n",
       "</style>\n",
       "<table border=\"1\" class=\"dataframe\">\n",
       "  <thead>\n",
       "    <tr style=\"text-align: right;\">\n",
       "      <th></th>\n",
       "      <th>Modelo</th>\n",
       "      <th>Accuracy</th>\n",
       "      <th>Classification Error</th>\n",
       "      <th>Recall</th>\n",
       "      <th>Specificity</th>\n",
       "      <th>Precision</th>\n",
       "      <th>F1 Score</th>\n",
       "      <th>Tiempo de Entrenamiento (m)</th>\n",
       "    </tr>\n",
       "  </thead>\n",
       "  <tbody>\n",
       "    <tr>\n",
       "      <th>0</th>\n",
       "      <td>Naive Bayes</td>\n",
       "      <td>0.825192</td>\n",
       "      <td>0.174808</td>\n",
       "      <td>0.383829</td>\n",
       "      <td>0.972995</td>\n",
       "      <td>0.826381</td>\n",
       "      <td>0.524189</td>\n",
       "      <td>0.010</td>\n",
       "    </tr>\n",
       "    <tr>\n",
       "      <th>1</th>\n",
       "      <td>Regresion Logistica</td>\n",
       "      <td>0.856920</td>\n",
       "      <td>0.143080</td>\n",
       "      <td>0.537233</td>\n",
       "      <td>0.963976</td>\n",
       "      <td>0.833168</td>\n",
       "      <td>0.653247</td>\n",
       "      <td>11.000</td>\n",
       "    </tr>\n",
       "    <tr>\n",
       "      <th>2</th>\n",
       "      <td>KNN</td>\n",
       "      <td>0.860592</td>\n",
       "      <td>0.139408</td>\n",
       "      <td>0.590089</td>\n",
       "      <td>0.951177</td>\n",
       "      <td>0.801881</td>\n",
       "      <td>0.679872</td>\n",
       "      <td>1020.000</td>\n",
       "    </tr>\n",
       "    <tr>\n",
       "      <th>3</th>\n",
       "      <td>CatBoost</td>\n",
       "      <td>0.886577</td>\n",
       "      <td>0.113423</td>\n",
       "      <td>0.760792</td>\n",
       "      <td>0.928700</td>\n",
       "      <td>0.781337</td>\n",
       "      <td>0.770928</td>\n",
       "      <td>0.067</td>\n",
       "    </tr>\n",
       "  </tbody>\n",
       "</table>\n",
       "</div>"
      ],
      "text/plain": [
       "                Modelo  Accuracy  Classification Error    Recall  Specificity  \\\n",
       "0          Naive Bayes  0.825192              0.174808  0.383829     0.972995   \n",
       "1  Regresion Logistica  0.856920              0.143080  0.537233     0.963976   \n",
       "2                  KNN  0.860592              0.139408  0.590089     0.951177   \n",
       "3             CatBoost  0.886577              0.113423  0.760792     0.928700   \n",
       "\n",
       "   Precision  F1 Score  Tiempo de Entrenamiento (m)  \n",
       "0   0.826381  0.524189                        0.010  \n",
       "1   0.833168  0.653247                       11.000  \n",
       "2   0.801881  0.679872                     1020.000  \n",
       "3   0.781337  0.770928                        0.067  "
      ]
     },
     "execution_count": 100,
     "metadata": {},
     "output_type": "execute_result"
    }
   ],
   "source": [
    "resultados"
   ]
  },
  {
   "cell_type": "code",
   "execution_count": 103,
   "metadata": {},
   "outputs": [
    {
     "data": {
      "text/html": [
       "<div>\n",
       "<style scoped>\n",
       "    .dataframe tbody tr th:only-of-type {\n",
       "        vertical-align: middle;\n",
       "    }\n",
       "\n",
       "    .dataframe tbody tr th {\n",
       "        vertical-align: top;\n",
       "    }\n",
       "\n",
       "    .dataframe thead th {\n",
       "        text-align: right;\n",
       "    }\n",
       "</style>\n",
       "<table border=\"1\" class=\"dataframe\">\n",
       "  <thead>\n",
       "    <tr style=\"text-align: right;\">\n",
       "      <th>Modelo</th>\n",
       "      <th>Naive Bayes</th>\n",
       "      <th>Regresion Logistica</th>\n",
       "      <th>KNN</th>\n",
       "      <th>CatBoost</th>\n",
       "    </tr>\n",
       "  </thead>\n",
       "  <tbody>\n",
       "    <tr>\n",
       "      <th>Modelo</th>\n",
       "      <td>Naive Bayes</td>\n",
       "      <td>Regresion Logistica</td>\n",
       "      <td>KNN</td>\n",
       "      <td>CatBoost</td>\n",
       "    </tr>\n",
       "    <tr>\n",
       "      <th>Accuracy</th>\n",
       "      <td>0.825192</td>\n",
       "      <td>0.85692</td>\n",
       "      <td>0.860592</td>\n",
       "      <td>0.886577</td>\n",
       "    </tr>\n",
       "    <tr>\n",
       "      <th>Classification Error</th>\n",
       "      <td>0.174808</td>\n",
       "      <td>0.14308</td>\n",
       "      <td>0.139408</td>\n",
       "      <td>0.113423</td>\n",
       "    </tr>\n",
       "    <tr>\n",
       "      <th>Recall</th>\n",
       "      <td>0.383829</td>\n",
       "      <td>0.537233</td>\n",
       "      <td>0.590089</td>\n",
       "      <td>0.760792</td>\n",
       "    </tr>\n",
       "    <tr>\n",
       "      <th>Specificity</th>\n",
       "      <td>0.972995</td>\n",
       "      <td>0.963976</td>\n",
       "      <td>0.951177</td>\n",
       "      <td>0.9287</td>\n",
       "    </tr>\n",
       "    <tr>\n",
       "      <th>Precision</th>\n",
       "      <td>0.826381</td>\n",
       "      <td>0.833168</td>\n",
       "      <td>0.801881</td>\n",
       "      <td>0.781337</td>\n",
       "    </tr>\n",
       "    <tr>\n",
       "      <th>F1 Score</th>\n",
       "      <td>0.524189</td>\n",
       "      <td>0.653247</td>\n",
       "      <td>0.679872</td>\n",
       "      <td>0.770928</td>\n",
       "    </tr>\n",
       "    <tr>\n",
       "      <th>Tiempo de Entrenamiento (m)</th>\n",
       "      <td>0.01</td>\n",
       "      <td>11</td>\n",
       "      <td>1020</td>\n",
       "      <td>0.067</td>\n",
       "    </tr>\n",
       "  </tbody>\n",
       "</table>\n",
       "</div>"
      ],
      "text/plain": [
       "Modelo                       Naive Bayes  Regresion Logistica       KNN  \\\n",
       "Modelo                       Naive Bayes  Regresion Logistica       KNN   \n",
       "Accuracy                        0.825192              0.85692  0.860592   \n",
       "Classification Error            0.174808              0.14308  0.139408   \n",
       "Recall                          0.383829             0.537233  0.590089   \n",
       "Specificity                     0.972995             0.963976  0.951177   \n",
       "Precision                       0.826381             0.833168  0.801881   \n",
       "F1 Score                        0.524189             0.653247  0.679872   \n",
       "Tiempo de Entrenamiento (m)         0.01                   11      1020   \n",
       "\n",
       "Modelo                       CatBoost  \n",
       "Modelo                       CatBoost  \n",
       "Accuracy                     0.886577  \n",
       "Classification Error         0.113423  \n",
       "Recall                       0.760792  \n",
       "Specificity                    0.9287  \n",
       "Precision                    0.781337  \n",
       "F1 Score                     0.770928  \n",
       "Tiempo de Entrenamiento (m)     0.067  "
      ]
     },
     "execution_count": 103,
     "metadata": {},
     "output_type": "execute_result"
    }
   ],
   "source": [
    "res_trans = resultados.set_index(resultados['Modelo'])\n",
    "res_trans.T"
   ]
  },
  {
   "cell_type": "markdown",
   "metadata": {},
   "source": [
    "### Curvas ROC"
   ]
  },
  {
   "cell_type": "code",
   "execution_count": 115,
   "metadata": {},
   "outputs": [],
   "source": [
    "from sklearn.metrics import roc_curve, auc"
   ]
  },
  {
   "cell_type": "code",
   "execution_count": 113,
   "metadata": {},
   "outputs": [],
   "source": [
    "#Calculo de probabilidades\n",
    "\n",
    "y_probs_nb = modelo_NB.predict_proba(X_test)\n",
    "y_probs_LG = lg_final.predict_proba(X_test)\n",
    "y_probs_KNN = KNN_final.predict_proba(X_test)\n",
    "y_probs_CAT = modelo_catboost.predict_proba(test_set)"
   ]
  },
  {
   "cell_type": "code",
   "execution_count": 117,
   "metadata": {},
   "outputs": [
    {
     "data": {
      "image/png": "[encoded data removed]",
      "text/plain": [
       "<Figure size 432x288 with 1 Axes>"
      ]
     },
     "metadata": {
      "needs_background": "light"
     },
     "output_type": "display_data"
    }
   ],
   "source": [
    "#Curvas ROC\n",
    "##NB\n",
    "fpr_nb,tpr_nb,thr_nb = roc_curve(y_test, y_probs_nb[:,1])\n",
    "##LG\n",
    "fpr_lg,tpr_lg,thr_lg = roc_curve(y_test, y_probs_LG[:,1])\n",
    "##KNN\n",
    "fpr_knn,tpr_knn,thr_knn = roc_curve(y_test, y_probs_KNN[:,1])\n",
    "##CatBoost\n",
    "fpr_cat,tpr_cat,thr_cat = roc_curve(test_label, y_probs_CAT[:,1])\n",
    "\n",
    "#Rango de los ejes\n",
    "plt.axis([0, 1.01, 0, 1.01])\n",
    "\n",
    "#Etiquetas de los ejes\n",
    "plt.xlabel('1 - Specificty')\n",
    "plt.ylabel('TPR / Sensitivity')\n",
    "\n",
    "#Titulo\n",
    "plt.title('Curvas ROC')\n",
    "\n",
    "#Plot de las curvas\n",
    "plt.plot(fpr_nb,tpr_nb)\n",
    "plt.plot(fpr_lg,tpr_lg)\n",
    "plt.plot(fpr_knn,tpr_knn)\n",
    "plt.plot(fpr_cat,tpr_cat)\n",
    "\n",
    "#Recta\n",
    "plt.plot(np.arange(0,1, step =0.01), np.arange(0,1, step =0.01))\n",
    "\n",
    "#Leyenda\n",
    "plt.legend(['NB','LG','KNN','CatBoost'])\n",
    "plt.show() "
   ]
  },
  {
   "cell_type": "markdown",
   "metadata": {},
   "source": [
    "### AUC de los modelos"
   ]
  },
  {
   "cell_type": "code",
   "execution_count": 118,
   "metadata": {},
   "outputs": [
    {
     "name": "stdout",
     "output_type": "stream",
     "text": [
      "AUC NB= 0.8242559060915204\n",
      "AUC LG= 0.8934726376001814\n",
      "AUC KNN= 0.8926932260421311\n",
      "AUC CatBoost= 0.9173675342842253\n"
     ]
    }
   ],
   "source": [
    "print('AUC NB=', auc(fpr_nb, tpr_nb))\n",
    "print('AUC LG=', auc(fpr_lg, tpr_lg))\n",
    "print('AUC KNN=', auc(fpr_knn, tpr_knn))\n",
    "print('AUC CatBoost=', auc(fpr_cat, tpr_cat))"
   ]
  },
  {
   "cell_type": "code",
   "execution_count": 119,
   "metadata": {},
   "outputs": [],
   "source": [
    "AUC_NB=auc(fpr_nb, tpr_nb)\n",
    "AUC_LG=auc(fpr_lg, tpr_lg)\n",
    "AUC_KNN=auc(fpr_knn, tpr_knn)\n",
    "AUC_CatBoost=auc(fpr_cat, tpr_cat)"
   ]
  },
  {
   "cell_type": "code",
   "execution_count": 120,
   "metadata": {},
   "outputs": [],
   "source": [
    "#Agregamos los resultados al dataframe\n",
    "\n",
    "resultados['AUC'] = [AUC_NB, AUC_LG, AUC_KNN, AUC_CatBoost]"
   ]
  },
  {
   "cell_type": "code",
   "execution_count": 121,
   "metadata": {},
   "outputs": [
    {
     "data": {
      "text/html": [
       "<div>\n",
       "<style scoped>\n",
       "    .dataframe tbody tr th:only-of-type {\n",
       "        vertical-align: middle;\n",
       "    }\n",
       "\n",
       "    .dataframe tbody tr th {\n",
       "        vertical-align: top;\n",
       "    }\n",
       "\n",
       "    .dataframe thead th {\n",
       "        text-align: right;\n",
       "    }\n",
       "</style>\n",
       "<table border=\"1\" class=\"dataframe\">\n",
       "  <thead>\n",
       "    <tr style=\"text-align: right;\">\n",
       "      <th></th>\n",
       "      <th>Modelo</th>\n",
       "      <th>Accuracy</th>\n",
       "      <th>Classification Error</th>\n",
       "      <th>Recall</th>\n",
       "      <th>Specificity</th>\n",
       "      <th>Precision</th>\n",
       "      <th>F1 Score</th>\n",
       "      <th>Tiempo de Entrenamiento (m)</th>\n",
       "      <th>AUC</th>\n",
       "    </tr>\n",
       "  </thead>\n",
       "  <tbody>\n",
       "    <tr>\n",
       "      <th>0</th>\n",
       "      <td>Naive Bayes</td>\n",
       "      <td>0.825192</td>\n",
       "      <td>0.174808</td>\n",
       "      <td>0.383829</td>\n",
       "      <td>0.972995</td>\n",
       "      <td>0.826381</td>\n",
       "      <td>0.524189</td>\n",
       "      <td>0.010</td>\n",
       "      <td>0.824256</td>\n",
       "    </tr>\n",
       "    <tr>\n",
       "      <th>1</th>\n",
       "      <td>Regresion Logistica</td>\n",
       "      <td>0.856920</td>\n",
       "      <td>0.143080</td>\n",
       "      <td>0.537233</td>\n",
       "      <td>0.963976</td>\n",
       "      <td>0.833168</td>\n",
       "      <td>0.653247</td>\n",
       "      <td>11.000</td>\n",
       "      <td>0.893473</td>\n",
       "    </tr>\n",
       "    <tr>\n",
       "      <th>2</th>\n",
       "      <td>KNN</td>\n",
       "      <td>0.860592</td>\n",
       "      <td>0.139408</td>\n",
       "      <td>0.590089</td>\n",
       "      <td>0.951177</td>\n",
       "      <td>0.801881</td>\n",
       "      <td>0.679872</td>\n",
       "      <td>1020.000</td>\n",
       "      <td>0.892693</td>\n",
       "    </tr>\n",
       "    <tr>\n",
       "      <th>3</th>\n",
       "      <td>CatBoost</td>\n",
       "      <td>0.886577</td>\n",
       "      <td>0.113423</td>\n",
       "      <td>0.760792</td>\n",
       "      <td>0.928700</td>\n",
       "      <td>0.781337</td>\n",
       "      <td>0.770928</td>\n",
       "      <td>0.067</td>\n",
       "      <td>0.917368</td>\n",
       "    </tr>\n",
       "  </tbody>\n",
       "</table>\n",
       "</div>"
      ],
      "text/plain": [
       "                Modelo  Accuracy  Classification Error    Recall  Specificity  \\\n",
       "0          Naive Bayes  0.825192              0.174808  0.383829     0.972995   \n",
       "1  Regresion Logistica  0.856920              0.143080  0.537233     0.963976   \n",
       "2                  KNN  0.860592              0.139408  0.590089     0.951177   \n",
       "3             CatBoost  0.886577              0.113423  0.760792     0.928700   \n",
       "\n",
       "   Precision  F1 Score  Tiempo de Entrenamiento (m)       AUC  \n",
       "0   0.826381  0.524189                        0.010  0.824256  \n",
       "1   0.833168  0.653247                       11.000  0.893473  \n",
       "2   0.801881  0.679872                     1020.000  0.892693  \n",
       "3   0.781337  0.770928                        0.067  0.917368  "
      ]
     },
     "execution_count": 121,
     "metadata": {},
     "output_type": "execute_result"
    }
   ],
   "source": [
    "resultados"
   ]
  },
  {
   "cell_type": "code",
   "execution_count": 122,
   "metadata": {},
   "outputs": [],
   "source": [
    "#Guardamos los resultados en un archivo\n",
    "resultados.to_csv('C:/Users/Ramiro/Desktop/Digital House/Desafios/Desafio 3/Resultados.csv')"
   ]
  },
  {
   "cell_type": "markdown",
   "metadata": {},
   "source": [
    "# Graficos comparativos"
   ]
  },
  {
   "cell_type": "code",
   "execution_count": 19,
   "metadata": {},
   "outputs": [
    {
     "data": {
      "text/html": [
       "<iframe id=\"igraph\" scrolling=\"no\" style=\"border:none;\" seamless=\"seamless\" src=\"https://plot.ly/~raharari/4.embed\" height=\"525px\" width=\"100%\"></iframe>"
      ],
      "text/plain": [
       "<plotly.tools.PlotlyDisplay object>"
      ]
     },
     "execution_count": 19,
     "metadata": {},
     "output_type": "execute_result"
    }
   ],
   "source": [
    "### Comparacion de las metricas de todos los modelos\n",
    "\n",
    "## Naive Bayes como baseline\n",
    "trace1 = go.Bar(\n",
    "    x=['Accuracy', 'Recall', 'Precission', 'F1 Score'],\n",
    "    y=[resultados['Accuracy'][0], resultados['Recall'][0], resultados['Precision'][0], resultados['F1 Score'][0]],\n",
    "    name='Naive Bayes'\n",
    ")\n",
    "\n",
    "\n",
    "## Regresion logistica\n",
    "trace2 = go.Bar(\n",
    "    x=['Accuracy', 'Recall', 'Precission', 'F1 Score'],\n",
    "    y=[resultados['Accuracy'][1], resultados['Recall'][1], resultados['Precision'][1], resultados['F1 Score'][1]],\n",
    "    name='Logistic Regression'\n",
    ")\n",
    "\n",
    "\n",
    "## KNN\n",
    "trace3 = go.Bar(\n",
    "    x=['Accuracy', 'Recall', 'Precission', 'F1 Score'],\n",
    "    y=[resultados['Accuracy'][2], resultados['Recall'][2], resultados['Precision'][2], resultados['F1 Score'][2]],\n",
    "    name='KNN'\n",
    ")\n",
    "\n",
    "\n",
    "## CatBoost\n",
    "trace4 = go.Bar(\n",
    "    x=['Accuracy', 'Recall', 'Precission', 'F1 Score'],\n",
    "    y=[resultados['Accuracy'][3], resultados['Recall'][3], resultados['Precision'][3], resultados['F1 Score'][3]],\n",
    "    name='CatBoost'\n",
    ")\n",
    "\n",
    "\n",
    "data = [trace1, trace2, trace3, trace4]\n",
    "layout = go.Layout(\n",
    "    barmode='group',\n",
    "    title = 'Comparacion de Metricas'\n",
    ")\n",
    "\n",
    "fig = go.Figure(data=data, layout=layout)\n",
    "py.iplot(fig, filename='grouped-bar')"
   ]
  },
  {
   "cell_type": "markdown",
   "metadata": {},
   "source": [
    "# Conclusiones"
   ]
  },
  {
   "cell_type": "markdown",
   "metadata": {},
   "source": [
    "Para nuestro problema en particular no solo es importante un accuracy alto, sino que tambien nos interesa minimizar los falsos negativos. Es mucho mas costoso para la compañia no realizar una accion sobre un cliente que va a entrar en default y perder esa poliza, que \"molestar\" a un cliente que finalmente no entrara en default (falso positivo). Es por esto que tambien nos interesa que el modelo tenga una metrica recall alta, de manera que minimice esos casos."
   ]
  },
  {
   "cell_type": "markdown",
   "metadata": {},
   "source": [
    "La familia de algoritmos de gradient boosting (Light GBM, CatBoost XGBoost) funcionan particularmente bien para este tipo de problemas, y en este caso, que no se evaluo el modelo con cross-validation, presentan un tiempo de entrenamiento bastante aceptable (sobretodo comparado con KNN que es altamente exigente sobre los recursos)."
   ]
  },
  {
   "cell_type": "markdown",
   "metadata": {},
   "source": [
    "En conclusion, la mejor alternativa para la solucion de este tipo de problemas es algun algoritmo de gradient boosting, en este caso seleccionaremos CatBoost. En siguientes iteraciones, tunearemos los hiperparametros mediante GridSerach o RandomSearch para poder acercanos aun a una mejor prediccion."
   ]
  },
  {
   "cell_type": "code",
   "execution_count": null,
   "metadata": {},
   "outputs": [],
   "source": []
  }
 ],
 "metadata": {
  "kernelspec": {
   "display_name": "Python 3",
   "language": "python",
   "name": "python3"
  },
  "language_info": {
   "codemirror_mode": {
    "name": "ipython",
    "version": 3
   },
   "file_extension": ".py",
   "mimetype": "text/x-python",
   "name": "python",
   "nbconvert_exporter": "python",
   "pygments_lexer": "ipython3",
   "version": "3.7.0"
  }
 },
 "nbformat": 4,
 "nbformat_minor": 2
}
